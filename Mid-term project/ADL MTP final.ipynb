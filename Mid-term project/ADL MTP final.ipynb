{
 "cells": [
  {
   "cell_type": "code",
   "execution_count": 1,
   "metadata": {},
   "outputs": [],
   "source": [
    "# import libraries\n",
    "from distutils.log import error\n",
    "from gc import callbacks\n",
    "from turtle import color\n",
    "import numpy as np\n",
    "import pandas as pd\n",
    "import matplotlib.pyplot as plt\n",
    "import tensorflow as tf\n",
    "import seaborn as sns\n",
    "from sklearn.model_selection import train_test_split\n",
    "from sklearn.metrics import roc_curve, auc\n",
    "from sklearn.metrics import roc_auc_score\n",
    "from sklearn import metrics\n",
    "from sklearn.metrics import confusion_matrix\n",
    "import imblearn\n",
    "import os"
   ]
  },
  {
   "cell_type": "markdown",
   "metadata": {},
   "source": [
    "# Question 1: Briefly discuss why it is more difficult to find a good classifier on imbalanced dataset"
   ]
  },
  {
   "cell_type": "markdown",
   "metadata": {},
   "source": [
    "In case that the dataset is imbalanced between the fraudulent and non-fraudulent cases, it would be difficult to find a good classifier mainly because it is difficult to assess the real performance of the models. If only 1% of the observations are fraudulent, in case the model just process with random guessing prediction of being all non-fraudulent, the accuracy of the model would still be 99%, which is really high. However, this high accuracy is highly dependent to the dataset instead of the model itself. Therefore, when the number of observations of each type is more balanced, it would be easier to assess the prediction performance of the model."
   ]
  },
  {
   "cell_type": "markdown",
   "metadata": {},
   "source": [
    "# Question 2: Data Cleaning and Feature Engineering"
   ]
  },
  {
   "cell_type": "markdown",
   "metadata": {},
   "source": [
    "The main cleaning process to the dataset consists of:\n",
    "1. Remove the  8 duplicate rows of the dataset, since they do not provide any additional information to the classification task.\n",
    "2. Check the unique values within the columns, which in this case, none of them presents the same value across all the rows.\n",
    "3. Drop the column called \"InsurerNotes\", which is free text regarding the incidence. In this case, we will not include this information to the classfication model. \n",
    "4. Check the NA values of the dataset and fill the categorical variables with string \"None\". For the numerical variables, we have decided to separate the dataset into fraud and non-fraud policy holders and verify if the numerical variables between them present any big differences. The main reason behind is to make sure that the fill NA process will not affect the pattern and characteristics of each type of policy holders, which the statistics showed that they were not the same.\n",
    "5. Drop of 3 rows within the variable \"FpVehicleAgeMonth\" since their values were negative and from the description of this variable, we considered that it would be better to not include them into the classification model.\n",
    "\n",
    "After the cleaning of the datasets, we concated them together again to proceed with feature engineering, which mainly consists of: \n",
    "\n",
    "1. Change the date related columns \"LossDate\" and \"FirstPolicySubscriptionDate\" into datetime format and then, into timestamp in order to be able to fit within the classification model afterwards. \n",
    "2. Convert all the categorical variables into dummy variables to fit within the model. \n",
    "3. In terms of the column \"ClaimInvolvedCovers\", after verifying the 191 unique values of the column, we have discovered that it contains all the type of policy covers that holders have used. In the case we create dummy variables for all the unique values, the number of columns would increase drastically. Hence, we have considered that it would be more useful to separate these type of covers into different columns and record all the users that have used them. Therefore, we created 14 new columns with the policy cover names and their values will be binary, being 1 if the client has used it and 0 otherwise. After this process, we would delete the original column since the information provided is overlapped."
   ]
  },
  {
   "cell_type": "code",
   "execution_count": 2,
   "metadata": {},
   "outputs": [],
   "source": [
    "# Read file\n",
    "df = pd.read_csv('Insurance_claims.csv')"
   ]
  },
  {
   "cell_type": "markdown",
   "metadata": {},
   "source": [
    "### Q2-1 Check duplicated rows"
   ]
  },
  {
   "cell_type": "code",
   "execution_count": 3,
   "metadata": {},
   "outputs": [
    {
     "name": "stdout",
     "output_type": "stream",
     "text": [
      "       PolicyholderNumber  FirstPartyVehicleNumber  ThirdPartyVehicleNumber  \\\n",
      "3451               564020                 754834.0                      NaN   \n",
      "3452               564020                 754834.0                      NaN   \n",
      "4281               724264                 968515.0                1007345.0   \n",
      "4814               550279                 739198.0                1022681.0   \n",
      "6191               336660                 510694.0                      NaN   \n",
      "8449               564665                1010712.0                      NaN   \n",
      "10594              608685                 810142.0                      NaN   \n",
      "10958              741119                1005423.0                1187501.0   \n",
      "\n",
      "                                            InsurerNotes  \\\n",
      "3451                                                 NaN   \n",
      "3452                                                 NaN   \n",
      "4281                                                 NaN   \n",
      "4814                                                 NaN   \n",
      "6191                                                 NaN   \n",
      "8449   Windshield crack following pebble received in ...   \n",
      "10594                                                NaN   \n",
      "10958                                          duplicate   \n",
      "\n",
      "      PolicyholderOccupation  LossDate FirstPolicySubscriptionDate  \\\n",
      "3451                Employee  18.08.19                    29.07.18   \n",
      "3452                Employee  18.08.19                    29.07.18   \n",
      "4281                Employee  28.09.19                    01.01.18   \n",
      "4814                Employee  11.09.19                    15.10.17   \n",
      "6191               Executive  28.01.20                    11.02.19   \n",
      "8449           HeadOfCompany  21.07.20                    30.07.19   \n",
      "10594               Employee  19.08.20                    25.09.17   \n",
      "10958                    NaN  11.01.21                    05.10.19   \n",
      "\n",
      "                             ClaimCause           ClaimInvolvedCovers  \\\n",
      "3451                                NaN                           NaN   \n",
      "3452                                NaN                           NaN   \n",
      "4281   AccidentWithIdentifiedThirdParty                  ActLiability   \n",
      "4814   AccidentWithIdentifiedThirdParty                  ActLiability   \n",
      "6191                                NaN                           NaN   \n",
      "8449                   WindscreenDamage                    Windscreen   \n",
      "10594                               NaN                           NaN   \n",
      "10958  AccidentWithIdentifiedThirdParty  MaterialDamages ActLiability   \n",
      "\n",
      "      DamageImportance  ... FpVehicleAgeMonths EasinessToStage  \\\n",
      "3451               NaN  ...               12.0            0.25   \n",
      "3452               NaN  ...               12.0            0.25   \n",
      "4281               NaN  ...               62.0            0.00   \n",
      "4814               NaN  ...              193.0            0.00   \n",
      "6191               NaN  ...               24.0            0.25   \n",
      "8449               NaN  ...              159.0            0.50   \n",
      "10594              NaN  ...              195.0            0.25   \n",
      "10958              NaN  ...               61.0            0.25   \n",
      "\n",
      "       ClaimWihoutIdentifiedThirdParty  ClaimAmount  LossHour  \\\n",
      "3451                                 1          0.0       0.0   \n",
      "3452                                 1          0.0       0.0   \n",
      "4281                                 0          0.0       0.0   \n",
      "4814                                 0          0.0       0.0   \n",
      "6191                                 1          0.0       0.0   \n",
      "8449                                 1          0.0       9.0   \n",
      "10594                                1          0.0       0.0   \n",
      "10958                                0          0.0      12.0   \n",
      "\n",
      "       PolicyHolderAge  NumberOfBodilyInjuries  FirstPartyLiability  Fraud  \\\n",
      "3451              37.0                       0                  0.0      0   \n",
      "3452              37.0                       0                  0.0      0   \n",
      "4281              49.0                       1                  0.0      0   \n",
      "4814              36.0                       1                  0.0      0   \n",
      "6191              47.0                       0                  0.0      0   \n",
      "8449              34.0                       0                  0.0      0   \n",
      "10594             50.0                       0                  0.0      0   \n",
      "10958             26.0                       0                  0.0      0   \n",
      "\n",
      "       LossAndHolderPostCodeSame  \n",
      "3451                           1  \n",
      "3452                           1  \n",
      "4281                           0  \n",
      "4814                           0  \n",
      "6191                           1  \n",
      "8449                           0  \n",
      "10594                          1  \n",
      "10958                          0  \n",
      "\n",
      "[8 rows x 24 columns]\n",
      "(11522, 24)\n"
     ]
    }
   ],
   "source": [
    "#check each row  of the dataset if duplicated\n",
    "dups = df.duplicated() \n",
    "print(df[dups]) # 8 rows are duplicated\n",
    "df.drop_duplicates(inplace=True)\n",
    "print(df.shape) # (11522,24)\n"
   ]
  },
  {
   "cell_type": "markdown",
   "metadata": {},
   "source": [
    "### Q2-2 Check unique column of the dataset"
   ]
  },
  {
   "cell_type": "code",
   "execution_count": 4,
   "metadata": {},
   "outputs": [
    {
     "data": {
      "text/plain": [
       "PolicyholderNumber                 9404\n",
       "FirstPartyVehicleNumber            9431\n",
       "ThirdPartyVehicleNumber             350\n",
       "InsurerNotes                       9040\n",
       "PolicyholderOccupation               11\n",
       "LossDate                            804\n",
       "FirstPolicySubscriptionDate        1389\n",
       "ClaimCause                           18\n",
       "ClaimInvolvedCovers                  68\n",
       "DamageImportance                      2\n",
       "FirstPartyVehicleType                 4\n",
       "ConnectionBetweenParties              5\n",
       "PolicyWasSubscribedOnInternet         2\n",
       "NumberOfPoliciesOfPolicyholder       17\n",
       "FpVehicleAgeMonths                  388\n",
       "EasinessToStage                       4\n",
       "ClaimWihoutIdentifiedThirdParty       2\n",
       "ClaimAmount                        8248\n",
       "LossHour                             24\n",
       "PolicyHolderAge                      73\n",
       "NumberOfBodilyInjuries                6\n",
       "FirstPartyLiability                   3\n",
       "Fraud                                 2\n",
       "LossAndHolderPostCodeSame             2\n",
       "dtype: int64"
      ]
     },
     "execution_count": 4,
     "metadata": {},
     "output_type": "execute_result"
    }
   ],
   "source": [
    "# check the unique values within the columns\n",
    "df.nunique()"
   ]
  },
  {
   "cell_type": "markdown",
   "metadata": {},
   "source": [
    "### Q2-3 Drop column"
   ]
  },
  {
   "cell_type": "code",
   "execution_count": 5,
   "metadata": {},
   "outputs": [],
   "source": [
    "df = df.drop(columns=['InsurerNotes'])"
   ]
  },
  {
   "cell_type": "markdown",
   "metadata": {},
   "source": [
    "### Q2-4 Check NA values and Fill NA"
   ]
  },
  {
   "cell_type": "code",
   "execution_count": 6,
   "metadata": {},
   "outputs": [
    {
     "data": {
      "text/plain": [
       "PolicyholderNumber                     0\n",
       "FirstPartyVehicleNumber              495\n",
       "ThirdPartyVehicleNumber            11146\n",
       "PolicyholderOccupation               342\n",
       "LossDate                               0\n",
       "FirstPolicySubscriptionDate            0\n",
       "ClaimCause                           193\n",
       "ClaimInvolvedCovers                  191\n",
       "DamageImportance                   10784\n",
       "FirstPartyVehicleType                 12\n",
       "ConnectionBetweenParties           11424\n",
       "PolicyWasSubscribedOnInternet          0\n",
       "NumberOfPoliciesOfPolicyholder         0\n",
       "FpVehicleAgeMonths                    12\n",
       "EasinessToStage                        0\n",
       "ClaimWihoutIdentifiedThirdParty        0\n",
       "ClaimAmount                            0\n",
       "LossHour                              94\n",
       "PolicyHolderAge                       36\n",
       "NumberOfBodilyInjuries                 0\n",
       "FirstPartyLiability                    0\n",
       "Fraud                                  0\n",
       "LossAndHolderPostCodeSame              0\n",
       "dtype: int64"
      ]
     },
     "execution_count": 6,
     "metadata": {},
     "output_type": "execute_result"
    }
   ],
   "source": [
    "# Check the NA values of the dataset\n",
    "df.isna().sum()"
   ]
  },
  {
   "cell_type": "code",
   "execution_count": 7,
   "metadata": {},
   "outputs": [],
   "source": [
    "# Fill categorical variables with string 'None'\n",
    "df['FirstPartyVehicleNumber'].fillna('None',inplace=True)\n",
    "df['ThirdPartyVehicleNumber'].fillna('None',inplace=True)\n",
    "df['DamageImportance'].fillna('None',inplace=True)\n",
    "df['PolicyholderOccupation'].fillna('None',inplace=True)\n",
    "df['ClaimCause'].fillna('None',inplace=True)\n",
    "df['ClaimInvolvedCovers'].fillna('None',inplace=True)\n",
    "df['FirstPartyVehicleType'].fillna('None', inplace=True)\n",
    "df['ConnectionBetweenParties'].fillna('None', inplace=True)"
   ]
  },
  {
   "cell_type": "code",
   "execution_count": 8,
   "metadata": {},
   "outputs": [],
   "source": [
    "# Drop 3 rows which the values were negative\n",
    "df.drop(df[df['FpVehicleAgeMonths'] <0 ].index,inplace=True)"
   ]
  },
  {
   "cell_type": "code",
   "execution_count": 9,
   "metadata": {},
   "outputs": [
    {
     "name": "stderr",
     "output_type": "stream",
     "text": [
      "<ipython-input-9-770cd0c753ef>:4: FutureWarning: Dropping of nuisance columns in DataFrame reductions (with 'numeric_only=None') is deprecated; in a future version this will raise TypeError.  Select only valid columns before calling the reduction.\n",
      "  df_fraud.mean()\n"
     ]
    },
    {
     "data": {
      "text/plain": [
       "PolicyholderNumber                 539728.982609\n",
       "PolicyWasSubscribedOnInternet           0.304348\n",
       "NumberOfPoliciesOfPolicyholder          1.608696\n",
       "FpVehicleAgeMonths                    116.778761\n",
       "EasinessToStage                         0.343043\n",
       "ClaimWihoutIdentifiedThirdParty         0.565217\n",
       "ClaimAmount                          3633.061652\n",
       "LossHour                               12.885965\n",
       "PolicyHolderAge                        40.678261\n",
       "NumberOfBodilyInjuries                  0.034783\n",
       "FirstPartyLiability                     0.486957\n",
       "Fraud                                   1.000000\n",
       "LossAndHolderPostCodeSame               0.626087\n",
       "dtype: float64"
      ]
     },
     "execution_count": 9,
     "metadata": {},
     "output_type": "execute_result"
    }
   ],
   "source": [
    "# separate two subset\n",
    "# Fraud Subset and get the mean of the numerical variables\n",
    "df_fraud = df[df['Fraud'] ==1]\n",
    "df_fraud.mean()"
   ]
  },
  {
   "cell_type": "code",
   "execution_count": 10,
   "metadata": {},
   "outputs": [
    {
     "name": "stderr",
     "output_type": "stream",
     "text": [
      "<ipython-input-10-1db0961a6356>:3: FutureWarning: Dropping of nuisance columns in DataFrame reductions (with 'numeric_only=None') is deprecated; in a future version this will raise TypeError.  Select only valid columns before calling the reduction.\n",
      "  df_nonfraud.mean()\n"
     ]
    },
    {
     "data": {
      "text/plain": [
       "PolicyholderNumber                 487900.936338\n",
       "PolicyWasSubscribedOnInternet           0.204314\n",
       "NumberOfPoliciesOfPolicyholder          2.238250\n",
       "FpVehicleAgeMonths                    113.459628\n",
       "EasinessToStage                         0.378021\n",
       "ClaimWihoutIdentifiedThirdParty         0.687040\n",
       "ClaimAmount                          1387.702325\n",
       "LossHour                                8.222262\n",
       "PolicyHolderAge                        44.610925\n",
       "NumberOfBodilyInjuries                  0.027973\n",
       "FirstPartyLiability                     0.205279\n",
       "Fraud                                   0.000000\n",
       "LossAndHolderPostCodeSame               0.565942\n",
       "dtype: float64"
      ]
     },
     "execution_count": 10,
     "metadata": {},
     "output_type": "execute_result"
    }
   ],
   "source": [
    "# Non Fraud Subset and get the mean of the numerical variables\n",
    "df_nonfraud = df[df['Fraud'] ==0]\n",
    "df_nonfraud.mean()"
   ]
  },
  {
   "cell_type": "code",
   "execution_count": 11,
   "metadata": {},
   "outputs": [
    {
     "name": "stderr",
     "output_type": "stream",
     "text": [
      "/Users/xiawang/opt/anaconda3/envs/DT/lib/python3.8/site-packages/pandas/core/generic.py:6392: SettingWithCopyWarning: \n",
      "A value is trying to be set on a copy of a slice from a DataFrame\n",
      "\n",
      "See the caveats in the documentation: https://pandas.pydata.org/pandas-docs/stable/user_guide/indexing.html#returning-a-view-versus-a-copy\n",
      "  return self._update_inplace(result)\n"
     ]
    }
   ],
   "source": [
    "# Fill the NA values of numerical variables with mean in each class\n",
    "df_fraud['FpVehicleAgeMonths'].fillna(df_fraud['FpVehicleAgeMonths'].mean(),inplace=True)\n",
    "df_fraud['LossHour'].fillna(df_fraud['LossHour'].mean(),inplace=True)\n",
    "\n",
    "df_nonfraud['FpVehicleAgeMonths'].fillna(df_nonfraud['FpVehicleAgeMonths'].mean(),inplace=True)\n",
    "df_nonfraud['LossHour'].fillna(df_nonfraud['LossHour'].mean(),inplace=True)\n",
    "df_nonfraud['PolicyHolderAge'].fillna(df_nonfraud['PolicyHolderAge'].mean(),inplace=True)\n"
   ]
  },
  {
   "cell_type": "code",
   "execution_count": 12,
   "metadata": {},
   "outputs": [],
   "source": [
    "# Concat two subsets again\n",
    "df= pd.concat([df_fraud,df_nonfraud])"
   ]
  },
  {
   "cell_type": "markdown",
   "metadata": {},
   "source": [
    "### Q2-5 Feature Engineering"
   ]
  },
  {
   "cell_type": "code",
   "execution_count": 13,
   "metadata": {},
   "outputs": [],
   "source": [
    "# Change the time related column into datatime and then to timestamp (LossDate,FirstPolicySubscriptionDate)\n",
    "from datetime import datetime\n",
    "df['LossDate'] = pd.to_datetime(df['LossDate'])\n",
    "df['FirstPolicySubscriptionDate'] = pd.to_datetime(df['FirstPolicySubscriptionDate'])\n",
    "\n",
    "df['LossDate'] =df['LossDate'].apply(lambda x: datetime.timestamp(x)) \n",
    "df ['FirstPolicySubscriptionDate']= df ['FirstPolicySubscriptionDate'].apply(lambda x: datetime.timestamp(x))"
   ]
  },
  {
   "cell_type": "code",
   "execution_count": 14,
   "metadata": {},
   "outputs": [],
   "source": [
    "# Convert all the categorical variables into dummies \n",
    "# using apply lambda function to iterate each rows \n",
    "df['FirstPartyVehicleNumber'] =df['FirstPartyVehicleNumber'].apply(lambda x: \"Yes\" if x!= 'None' else x )\n",
    "df['ThirdPartyVehicleNumber'] =df['ThirdPartyVehicleNumber'].apply(lambda x: \"Yes\" if x!= 'None' else x )\n",
    "\n",
    "# get dummy variables\n",
    "df = pd.get_dummies(df, drop_first = True, columns = ['FirstPartyVehicleNumber'])\n",
    "df = pd.get_dummies(df, drop_first = True, columns = ['ThirdPartyVehicleNumber'])\n",
    "df = pd.get_dummies(df,drop_first=True, columns = ['PolicyholderOccupation'])\n",
    "df = pd.get_dummies(df,drop_first=True, columns = ['ClaimCause'])\n",
    "df = pd.get_dummies(df, drop_first = True, columns = ['DamageImportance'])\n",
    "df = pd.get_dummies(df, drop_first = True, columns = ['FirstPartyVehicleType'])\n",
    "df = pd.get_dummies(df, drop_first = True, columns = ['ConnectionBetweenParties'])\n"
   ]
  },
  {
   "cell_type": "code",
   "execution_count": 15,
   "metadata": {},
   "outputs": [],
   "source": [
    "# Separate each type of covers to different columns in terms of the ClaimInvolvedCovers column\n",
    "df_count = df['ClaimInvolvedCovers'].str.split(\" \", expand=True).apply(pd.value_counts)\n",
    "lst = list(df_count.index)\n",
    "lst\n",
    "\n",
    "for cover in lst:\n",
    "    df[cover] = df['ClaimInvolvedCovers'].apply(lambda x: 1 if (cover in x) else 0)\n",
    "\n",
    "df.drop(columns=['ClaimInvolvedCovers'],inplace=True)"
   ]
  },
  {
   "cell_type": "code",
   "execution_count": 16,
   "metadata": {},
   "outputs": [
    {
     "data": {
      "text/plain": [
       "(11519, 71)"
      ]
     },
     "execution_count": 16,
     "metadata": {},
     "output_type": "execute_result"
    }
   ],
   "source": [
    "df.shape"
   ]
  },
  {
   "cell_type": "markdown",
   "metadata": {},
   "source": [
    "# Q3: Creating Deep Neural Network on Imbalanced Dataset (Model 3)"
   ]
  },
  {
   "cell_type": "markdown",
   "metadata": {},
   "source": [
    "In this section, we are going to split the dataset into train, validation and test, scale them before running the model."
   ]
  },
  {
   "cell_type": "code",
   "execution_count": 17,
   "metadata": {},
   "outputs": [],
   "source": [
    "from sklearn.model_selection import train_test_split\n",
    "\n",
    "y= df['Fraud']\n",
    "X = df.drop(columns= ['Fraud','PolicyholderNumber'])"
   ]
  },
  {
   "cell_type": "code",
   "execution_count": 23,
   "metadata": {},
   "outputs": [],
   "source": [
    "# Splitting the data into training and testing set:\n",
    "X_train, X_test, y_train, y_test = train_test_split(X, y, test_size=0.2, random_state=888)"
   ]
  },
  {
   "cell_type": "code",
   "execution_count": 24,
   "metadata": {},
   "outputs": [],
   "source": [
    "# Scale the X-training data and then use the same scaler on the test data\n",
    "from sklearn.preprocessing import MinMaxScaler\n",
    "scaler = MinMaxScaler()\n",
    "X_train = scaler.fit_transform(X_train)\n",
    "X_test = scaler.transform(X_test)"
   ]
  },
  {
   "cell_type": "code",
   "execution_count": 25,
   "metadata": {},
   "outputs": [],
   "source": [
    "# Split train to train and validation dataset\n",
    "X_train, X_valid, y_train, y_valid = train_test_split(X_train, y_train, test_size = 0.25, random_state=888)"
   ]
  },
  {
   "cell_type": "markdown",
   "metadata": {},
   "source": [
    "## Q3.1 Building a Neural Network"
   ]
  },
  {
   "cell_type": "markdown",
   "metadata": {},
   "source": [
    "In this section, we are going to load the TensorBoard to display the metrics that we have obtained in with each combination of hyperparameters."
   ]
  },
  {
   "cell_type": "code",
   "execution_count": 33,
   "metadata": {},
   "outputs": [
    {
     "name": "stdout",
     "output_type": "stream",
     "text": [
      "The tensorboard extension is already loaded. To reload it, use:\n",
      "  %reload_ext tensorboard\n"
     ]
    }
   ],
   "source": [
    "# Load TensorBoard Extension\n",
    "%load_ext tensorboard\n",
    "import datetime\n",
    "logdir = os.path.join(\"logs\", datetime.datetime.now().strftime(\"%Y%m%d-%H%M%S\"))\n",
    "from tensorboard.plugins.hparams import api as hp"
   ]
  },
  {
   "cell_type": "code",
   "execution_count": null,
   "metadata": {},
   "outputs": [],
   "source": [
    "# create a folder loading results first\n",
    "rm -rf ./logs/"
   ]
  },
  {
   "cell_type": "markdown",
   "metadata": {},
   "source": [
    "## Q3.2 Using HParams and TensorBoard"
   ]
  },
  {
   "cell_type": "markdown",
   "metadata": {},
   "source": [
    "In this section, we set the ranges of each hyperparameters to combine and find the best model with the highest accuracy.\n",
    "\n",
    "- The structure of Model 3 will be of 1 input layer, 1 hidden layer and 1 output layer.\n",
    "- The main optimizers are between SGD and Adam, which will be combined randomly with the hyperparameters. \n",
    "- The learning rate is set to be between 0.001 to 0.1. \n",
    "- The number of neurons in the hidden layer is set to be between 10 to 30. \n",
    "- The main metric to assess the performance will be the accuracy. \n",
    "- We have set an early stopping callback to the model, so that the machine will stop automatically when the validation loss stops decreasing after 10 epochs.\n",
    "\n",
    "The session will be run 10 times, which once finished, we could load the results to the TensorBoard to see performance of each run model. \n"
   ]
  },
  {
   "cell_type": "code",
   "execution_count": 36,
   "metadata": {},
   "outputs": [],
   "source": [
    "#%% Using HParams, define the parameters, as well as the interval over\n",
    "HP_LEARNING_RATE = hp.HParam('learning_rate', hp.RealInterval(0.001,0.1))\n",
    "HP_OPTIMIZER = hp.HParam('optimizer', hp.Discrete(['adam', 'sgd']))\n",
    "HP_NUM_UNITS = hp.HParam('num_units', hp.Discrete(range(10,30)))\n",
    "\n",
    "METRIC_ACC = 'accuracy'"
   ]
  },
  {
   "cell_type": "code",
   "execution_count": 37,
   "metadata": {},
   "outputs": [
    {
     "name": "stderr",
     "output_type": "stream",
     "text": [
      "2022-03-09 03:20:24.493222: I tensorflow/core/platform/cpu_feature_guard.cc:151] This TensorFlow binary is optimized with oneAPI Deep Neural Network Library (oneDNN) to use the following CPU instructions in performance-critical operations:  AVX2 AVX512F FMA\n",
      "To enable them in other operations, rebuild TensorFlow with the appropriate compiler flags.\n"
     ]
    }
   ],
   "source": [
    "# Write parameters and metrics into our folder with the logs\n",
    "with tf.summary.create_file_writer('logs/hparam_tuning').as_default():\n",
    "    hp.hparams_config(hparams=[HP_LEARNING_RATE, HP_OPTIMIZER, HP_NUM_UNITS], \n",
    "                      metrics = [hp.Metric(METRIC_ACC, display_name='ACC')])"
   ]
  },
  {
   "cell_type": "code",
   "execution_count": 44,
   "metadata": {},
   "outputs": [],
   "source": [
    "# clear TensorFlow session \n",
    "tf.keras.backend.clear_session()\n",
    "np.random.seed(888)\n",
    "tf.random.set_seed(888)"
   ]
  },
  {
   "cell_type": "code",
   "execution_count": 47,
   "metadata": {},
   "outputs": [],
   "source": [
    "# Define function of tuning parameter to train and evaluate the model \n",
    "def train_test_model3(hparams, run_dir):\n",
    "    \n",
    "    model = tf.keras.models.Sequential([\n",
    "        tf.keras.layers.Dense(hparams[HP_NUM_UNITS], activation=\"relu\"),\n",
    "        tf.keras.layers.Dense(1, activation='sigmoid')])\n",
    "    \n",
    "    if hparams[HP_OPTIMIZER] == 'sgd':\n",
    "        optimizer = tf.keras.optimizers.SGD(learning_rate=hparams[HP_LEARNING_RATE],clipvalue=1)\n",
    "    elif hparams[HP_OPTIMIZER] == 'adam':\n",
    "        optimizer = tf.keras.optimizers.Adam(learning_rate=hparams[HP_LEARNING_RATE])\n",
    "        \n",
    "    model.compile(  optimizer=optimizer,\n",
    "                    loss='binary_crossentropy', \n",
    "                    metrics=METRIC_ACC)\n",
    "\n",
    "    early_stopping_cb = tf.keras.callbacks.EarlyStopping(patience=10, restore_best_weights=True)\n",
    "\n",
    "    model.fit(X_train, y_train, epochs=100, callbacks=[early_stopping_cb])\n",
    "    acc = model.evaluate(X_valid, y_valid)[1]\n",
    "\n",
    "    \n",
    "    with tf.summary.create_file_writer(run_dir).as_default():\n",
    "        hp.hparams(hparams)\n",
    "        tf.summary.scalar(METRIC_ACC, acc, step=1) "
   ]
  },
  {
   "cell_type": "code",
   "execution_count": null,
   "metadata": {},
   "outputs": [],
   "source": [
    "total_sessions = 10\n",
    "\n",
    "for session in range(total_sessions):\n",
    "    \n",
    "    # Create hyperparameters randomly\n",
    "    num_units = HP_NUM_UNITS.domain.sample_uniform()\n",
    "    optimizer = HP_OPTIMIZER.domain.sample_uniform()\n",
    "    \n",
    "    r = -3*np.random.rand()\n",
    "    learning_rate = 10.0**r\n",
    "    \n",
    "    # Create a dictionary of hyperparameters\n",
    "    hparams = { HP_LEARNING_RATE: learning_rate,\n",
    "                HP_OPTIMIZER: optimizer,\n",
    "                HP_NUM_UNITS: num_units}\n",
    "    \n",
    "    # train the model with the chosen parameters\n",
    "    run_name = \"run-%d\" % session\n",
    "    print('--- Starting trial: %s' % run_name)\n",
    "    print({h.name: hparams[h] for h in hparams})\n",
    "    train_test_model3(hparams,'logs/hparam_tuning/' + run_name)"
   ]
  },
  {
   "cell_type": "markdown",
   "metadata": {},
   "source": [
    "## Q3.3 Visualization with TensorBoard"
   ]
  },
  {
   "cell_type": "code",
   "execution_count": 41,
   "metadata": {},
   "outputs": [
    {
     "data": {
      "text/plain": [
       "Reusing TensorBoard on port 6006 (pid 52699), started 0:17:44 ago. (Use '!kill 52699' to kill it.)"
      ]
     },
     "metadata": {},
     "output_type": "display_data"
    },
    {
     "data": {
      "text/html": [
       "\n",
       "      <iframe id=\"tensorboard-frame-88a1bd79af18d857\" width=\"100%\" height=\"800\" frameborder=\"0\">\n",
       "      </iframe>\n",
       "      <script>\n",
       "        (function() {\n",
       "          const frame = document.getElementById(\"tensorboard-frame-88a1bd79af18d857\");\n",
       "          const url = new URL(\"http://localhost\");\n",
       "          const port = 6006;\n",
       "          if (port) {\n",
       "            url.port = port;\n",
       "          }\n",
       "          frame.src = url;\n",
       "        })();\n",
       "      </script>\n",
       "    "
      ],
      "text/plain": [
       "<IPython.core.display.HTML object>"
      ]
     },
     "metadata": {},
     "output_type": "display_data"
    }
   ],
   "source": [
    "\n",
    "%tensorboard --logdir logs #run the TensorBoard"
   ]
  },
  {
   "cell_type": "markdown",
   "metadata": {},
   "source": [
    "Run the neural network with the best accuracy showed in the TensorBoard."
   ]
  },
  {
   "cell_type": "code",
   "execution_count": 51,
   "metadata": {},
   "outputs": [
    {
     "name": "stdout",
     "output_type": "stream",
     "text": [
      "Epoch 1/100\n",
      "216/216 [==============================] - 1s 3ms/step - loss: 0.1288 - accuracy: 0.9808 - val_loss: 0.0534 - val_accuracy: 0.9918\n",
      "Epoch 2/100\n",
      "216/216 [==============================] - 1s 2ms/step - loss: 0.0607 - accuracy: 0.9894 - val_loss: 0.0491 - val_accuracy: 0.9918\n",
      "Epoch 3/100\n",
      "216/216 [==============================] - 1s 3ms/step - loss: 0.0592 - accuracy: 0.9894 - val_loss: 0.0482 - val_accuracy: 0.9918\n",
      "Epoch 4/100\n",
      "216/216 [==============================] - 1s 2ms/step - loss: 0.0586 - accuracy: 0.9894 - val_loss: 0.0478 - val_accuracy: 0.9918\n",
      "Epoch 5/100\n",
      "216/216 [==============================] - 1s 2ms/step - loss: 0.0580 - accuracy: 0.9894 - val_loss: 0.0473 - val_accuracy: 0.9918\n",
      "Epoch 6/100\n",
      "216/216 [==============================] - 1s 3ms/step - loss: 0.0575 - accuracy: 0.9894 - val_loss: 0.0470 - val_accuracy: 0.9918\n",
      "Epoch 7/100\n",
      "216/216 [==============================] - 1s 2ms/step - loss: 0.0570 - accuracy: 0.9894 - val_loss: 0.0466 - val_accuracy: 0.9918\n",
      "Epoch 8/100\n",
      "216/216 [==============================] - 0s 2ms/step - loss: 0.0566 - accuracy: 0.9894 - val_loss: 0.0464 - val_accuracy: 0.9918\n",
      "Epoch 9/100\n",
      "216/216 [==============================] - 0s 2ms/step - loss: 0.0562 - accuracy: 0.9894 - val_loss: 0.0462 - val_accuracy: 0.9918\n",
      "Epoch 10/100\n",
      "216/216 [==============================] - 1s 3ms/step - loss: 0.0558 - accuracy: 0.9894 - val_loss: 0.0458 - val_accuracy: 0.9918\n",
      "Epoch 11/100\n",
      "216/216 [==============================] - 1s 3ms/step - loss: 0.0555 - accuracy: 0.9894 - val_loss: 0.0455 - val_accuracy: 0.9918\n",
      "Epoch 12/100\n",
      "216/216 [==============================] - 0s 2ms/step - loss: 0.0552 - accuracy: 0.9894 - val_loss: 0.0453 - val_accuracy: 0.9918\n",
      "Epoch 13/100\n",
      "216/216 [==============================] - 0s 2ms/step - loss: 0.0549 - accuracy: 0.9894 - val_loss: 0.0452 - val_accuracy: 0.9918\n",
      "Epoch 14/100\n",
      "216/216 [==============================] - 0s 2ms/step - loss: 0.0546 - accuracy: 0.9894 - val_loss: 0.0449 - val_accuracy: 0.9918\n",
      "Epoch 15/100\n",
      "216/216 [==============================] - 0s 2ms/step - loss: 0.0543 - accuracy: 0.9894 - val_loss: 0.0449 - val_accuracy: 0.9918\n",
      "Epoch 16/100\n",
      "216/216 [==============================] - 0s 2ms/step - loss: 0.0541 - accuracy: 0.9894 - val_loss: 0.0446 - val_accuracy: 0.9918\n",
      "Epoch 17/100\n",
      "216/216 [==============================] - 0s 2ms/step - loss: 0.0538 - accuracy: 0.9894 - val_loss: 0.0446 - val_accuracy: 0.9918\n",
      "Epoch 18/100\n",
      "216/216 [==============================] - 0s 2ms/step - loss: 0.0536 - accuracy: 0.9894 - val_loss: 0.0444 - val_accuracy: 0.9918\n",
      "Epoch 19/100\n",
      "216/216 [==============================] - 0s 2ms/step - loss: 0.0534 - accuracy: 0.9894 - val_loss: 0.0443 - val_accuracy: 0.9918\n",
      "Epoch 20/100\n",
      "216/216 [==============================] - 0s 2ms/step - loss: 0.0532 - accuracy: 0.9894 - val_loss: 0.0441 - val_accuracy: 0.9918\n",
      "Epoch 21/100\n",
      "216/216 [==============================] - 0s 2ms/step - loss: 0.0530 - accuracy: 0.9894 - val_loss: 0.0440 - val_accuracy: 0.9918\n",
      "Epoch 22/100\n",
      "216/216 [==============================] - 0s 2ms/step - loss: 0.0527 - accuracy: 0.9894 - val_loss: 0.0439 - val_accuracy: 0.9918\n",
      "Epoch 23/100\n",
      "216/216 [==============================] - 0s 2ms/step - loss: 0.0526 - accuracy: 0.9894 - val_loss: 0.0437 - val_accuracy: 0.9918\n",
      "Epoch 24/100\n",
      "216/216 [==============================] - 0s 2ms/step - loss: 0.0524 - accuracy: 0.9894 - val_loss: 0.0436 - val_accuracy: 0.9918\n",
      "Epoch 25/100\n",
      "216/216 [==============================] - 0s 2ms/step - loss: 0.0522 - accuracy: 0.9894 - val_loss: 0.0434 - val_accuracy: 0.9918\n",
      "Epoch 26/100\n",
      "216/216 [==============================] - 1s 3ms/step - loss: 0.0520 - accuracy: 0.9894 - val_loss: 0.0433 - val_accuracy: 0.9918\n",
      "Epoch 27/100\n",
      "216/216 [==============================] - 0s 2ms/step - loss: 0.0518 - accuracy: 0.9894 - val_loss: 0.0432 - val_accuracy: 0.9918\n",
      "Epoch 28/100\n",
      "216/216 [==============================] - 0s 2ms/step - loss: 0.0516 - accuracy: 0.9894 - val_loss: 0.0431 - val_accuracy: 0.9918\n",
      "Epoch 29/100\n",
      "216/216 [==============================] - 1s 3ms/step - loss: 0.0515 - accuracy: 0.9894 - val_loss: 0.0430 - val_accuracy: 0.9918\n",
      "Epoch 30/100\n",
      "216/216 [==============================] - 0s 2ms/step - loss: 0.0513 - accuracy: 0.9894 - val_loss: 0.0428 - val_accuracy: 0.9918\n",
      "Epoch 31/100\n",
      "216/216 [==============================] - 0s 2ms/step - loss: 0.0511 - accuracy: 0.9894 - val_loss: 0.0426 - val_accuracy: 0.9918\n",
      "Epoch 32/100\n",
      "216/216 [==============================] - 1s 2ms/step - loss: 0.0510 - accuracy: 0.9894 - val_loss: 0.0427 - val_accuracy: 0.9918\n",
      "Epoch 33/100\n",
      "216/216 [==============================] - 1s 3ms/step - loss: 0.0508 - accuracy: 0.9894 - val_loss: 0.0427 - val_accuracy: 0.9918\n",
      "Epoch 34/100\n",
      "216/216 [==============================] - 0s 2ms/step - loss: 0.0507 - accuracy: 0.9894 - val_loss: 0.0425 - val_accuracy: 0.9918\n",
      "Epoch 35/100\n",
      "216/216 [==============================] - 0s 2ms/step - loss: 0.0505 - accuracy: 0.9894 - val_loss: 0.0422 - val_accuracy: 0.9918\n",
      "Epoch 36/100\n",
      "216/216 [==============================] - 0s 2ms/step - loss: 0.0504 - accuracy: 0.9894 - val_loss: 0.0422 - val_accuracy: 0.9918\n",
      "Epoch 37/100\n",
      "216/216 [==============================] - 0s 2ms/step - loss: 0.0502 - accuracy: 0.9894 - val_loss: 0.0421 - val_accuracy: 0.9918\n",
      "Epoch 38/100\n",
      "216/216 [==============================] - 0s 2ms/step - loss: 0.0501 - accuracy: 0.9894 - val_loss: 0.0421 - val_accuracy: 0.9918\n",
      "Epoch 39/100\n",
      "216/216 [==============================] - 0s 2ms/step - loss: 0.0499 - accuracy: 0.9894 - val_loss: 0.0419 - val_accuracy: 0.9918\n",
      "Epoch 40/100\n",
      "216/216 [==============================] - 0s 2ms/step - loss: 0.0498 - accuracy: 0.9894 - val_loss: 0.0418 - val_accuracy: 0.9918\n",
      "Epoch 41/100\n",
      "216/216 [==============================] - 1s 3ms/step - loss: 0.0497 - accuracy: 0.9894 - val_loss: 0.0419 - val_accuracy: 0.9918\n",
      "Epoch 42/100\n",
      "216/216 [==============================] - 0s 2ms/step - loss: 0.0496 - accuracy: 0.9894 - val_loss: 0.0419 - val_accuracy: 0.9918\n",
      "Epoch 43/100\n",
      "216/216 [==============================] - 0s 2ms/step - loss: 0.0495 - accuracy: 0.9894 - val_loss: 0.0416 - val_accuracy: 0.9918\n",
      "Epoch 44/100\n",
      "216/216 [==============================] - 0s 2ms/step - loss: 0.0493 - accuracy: 0.9894 - val_loss: 0.0416 - val_accuracy: 0.9918\n",
      "Epoch 45/100\n",
      "216/216 [==============================] - 0s 2ms/step - loss: 0.0492 - accuracy: 0.9894 - val_loss: 0.0414 - val_accuracy: 0.9918\n",
      "Epoch 46/100\n",
      "216/216 [==============================] - 1s 2ms/step - loss: 0.0491 - accuracy: 0.9894 - val_loss: 0.0413 - val_accuracy: 0.9918\n",
      "Epoch 47/100\n",
      "216/216 [==============================] - 0s 2ms/step - loss: 0.0489 - accuracy: 0.9894 - val_loss: 0.0413 - val_accuracy: 0.9918\n",
      "Epoch 48/100\n",
      "216/216 [==============================] - 0s 2ms/step - loss: 0.0488 - accuracy: 0.9894 - val_loss: 0.0412 - val_accuracy: 0.9918\n",
      "Epoch 49/100\n",
      "216/216 [==============================] - 0s 2ms/step - loss: 0.0487 - accuracy: 0.9894 - val_loss: 0.0412 - val_accuracy: 0.9918\n",
      "Epoch 50/100\n",
      "216/216 [==============================] - 1s 2ms/step - loss: 0.0486 - accuracy: 0.9894 - val_loss: 0.0413 - val_accuracy: 0.9918\n",
      "Epoch 51/100\n",
      "216/216 [==============================] - 1s 3ms/step - loss: 0.0485 - accuracy: 0.9894 - val_loss: 0.0411 - val_accuracy: 0.9918\n",
      "Epoch 52/100\n",
      "216/216 [==============================] - 1s 3ms/step - loss: 0.0484 - accuracy: 0.9894 - val_loss: 0.0409 - val_accuracy: 0.9918\n",
      "Epoch 53/100\n",
      "216/216 [==============================] - 0s 2ms/step - loss: 0.0483 - accuracy: 0.9894 - val_loss: 0.0409 - val_accuracy: 0.9918\n",
      "Epoch 54/100\n",
      "216/216 [==============================] - 1s 3ms/step - loss: 0.0482 - accuracy: 0.9894 - val_loss: 0.0408 - val_accuracy: 0.9918\n",
      "Epoch 55/100\n",
      "216/216 [==============================] - 1s 2ms/step - loss: 0.0481 - accuracy: 0.9894 - val_loss: 0.0407 - val_accuracy: 0.9918\n",
      "Epoch 56/100\n",
      "216/216 [==============================] - 1s 2ms/step - loss: 0.0480 - accuracy: 0.9894 - val_loss: 0.0408 - val_accuracy: 0.9918\n",
      "Epoch 57/100\n",
      "216/216 [==============================] - 1s 2ms/step - loss: 0.0479 - accuracy: 0.9894 - val_loss: 0.0407 - val_accuracy: 0.9918\n",
      "Epoch 58/100\n",
      "216/216 [==============================] - 0s 2ms/step - loss: 0.0478 - accuracy: 0.9894 - val_loss: 0.0406 - val_accuracy: 0.9918\n",
      "Epoch 59/100\n",
      "216/216 [==============================] - 0s 2ms/step - loss: 0.0477 - accuracy: 0.9894 - val_loss: 0.0406 - val_accuracy: 0.9918\n",
      "Epoch 60/100\n",
      "216/216 [==============================] - 0s 2ms/step - loss: 0.0476 - accuracy: 0.9894 - val_loss: 0.0404 - val_accuracy: 0.9918\n",
      "Epoch 61/100\n",
      "216/216 [==============================] - 0s 2ms/step - loss: 0.0475 - accuracy: 0.9894 - val_loss: 0.0403 - val_accuracy: 0.9918\n",
      "Epoch 62/100\n",
      "216/216 [==============================] - 0s 2ms/step - loss: 0.0474 - accuracy: 0.9894 - val_loss: 0.0404 - val_accuracy: 0.9918\n",
      "Epoch 63/100\n",
      "216/216 [==============================] - 0s 2ms/step - loss: 0.0473 - accuracy: 0.9894 - val_loss: 0.0405 - val_accuracy: 0.9918\n",
      "Epoch 64/100\n",
      "216/216 [==============================] - 0s 2ms/step - loss: 0.0472 - accuracy: 0.9894 - val_loss: 0.0403 - val_accuracy: 0.9918\n",
      "Epoch 65/100\n",
      "216/216 [==============================] - 0s 2ms/step - loss: 0.0471 - accuracy: 0.9894 - val_loss: 0.0401 - val_accuracy: 0.9918\n",
      "Epoch 66/100\n",
      "216/216 [==============================] - 0s 2ms/step - loss: 0.0471 - accuracy: 0.9894 - val_loss: 0.0401 - val_accuracy: 0.9918\n",
      "Epoch 67/100\n",
      "216/216 [==============================] - 0s 2ms/step - loss: 0.0469 - accuracy: 0.9894 - val_loss: 0.0402 - val_accuracy: 0.9918\n",
      "Epoch 68/100\n",
      "216/216 [==============================] - 0s 2ms/step - loss: 0.0468 - accuracy: 0.9894 - val_loss: 0.0401 - val_accuracy: 0.9918\n",
      "Epoch 69/100\n",
      "216/216 [==============================] - 0s 2ms/step - loss: 0.0467 - accuracy: 0.9894 - val_loss: 0.0400 - val_accuracy: 0.9918\n",
      "Epoch 70/100\n",
      "216/216 [==============================] - 0s 2ms/step - loss: 0.0466 - accuracy: 0.9894 - val_loss: 0.0398 - val_accuracy: 0.9918\n",
      "Epoch 71/100\n",
      "216/216 [==============================] - 0s 2ms/step - loss: 0.0466 - accuracy: 0.9894 - val_loss: 0.0399 - val_accuracy: 0.9918\n",
      "Epoch 72/100\n",
      "216/216 [==============================] - 1s 2ms/step - loss: 0.0465 - accuracy: 0.9894 - val_loss: 0.0398 - val_accuracy: 0.9918\n",
      "Epoch 73/100\n",
      "216/216 [==============================] - 1s 3ms/step - loss: 0.0464 - accuracy: 0.9894 - val_loss: 0.0398 - val_accuracy: 0.9918\n",
      "Epoch 74/100\n",
      "216/216 [==============================] - 0s 2ms/step - loss: 0.0463 - accuracy: 0.9894 - val_loss: 0.0399 - val_accuracy: 0.9918\n",
      "Epoch 75/100\n",
      "216/216 [==============================] - 1s 2ms/step - loss: 0.0462 - accuracy: 0.9894 - val_loss: 0.0397 - val_accuracy: 0.9918\n",
      "Epoch 76/100\n",
      "216/216 [==============================] - 1s 3ms/step - loss: 0.0461 - accuracy: 0.9894 - val_loss: 0.0395 - val_accuracy: 0.9918\n",
      "Epoch 77/100\n",
      "216/216 [==============================] - 1s 2ms/step - loss: 0.0461 - accuracy: 0.9894 - val_loss: 0.0396 - val_accuracy: 0.9918\n",
      "Epoch 78/100\n",
      "216/216 [==============================] - 0s 2ms/step - loss: 0.0460 - accuracy: 0.9894 - val_loss: 0.0395 - val_accuracy: 0.9918\n",
      "Epoch 79/100\n",
      "216/216 [==============================] - 0s 2ms/step - loss: 0.0459 - accuracy: 0.9894 - val_loss: 0.0395 - val_accuracy: 0.9918\n",
      "Epoch 80/100\n",
      "216/216 [==============================] - 1s 2ms/step - loss: 0.0458 - accuracy: 0.9894 - val_loss: 0.0393 - val_accuracy: 0.9918\n",
      "Epoch 81/100\n",
      "216/216 [==============================] - 0s 2ms/step - loss: 0.0457 - accuracy: 0.9894 - val_loss: 0.0395 - val_accuracy: 0.9918\n",
      "Epoch 82/100\n",
      "216/216 [==============================] - 0s 2ms/step - loss: 0.0456 - accuracy: 0.9894 - val_loss: 0.0393 - val_accuracy: 0.9918\n",
      "Epoch 83/100\n",
      "216/216 [==============================] - 1s 2ms/step - loss: 0.0455 - accuracy: 0.9894 - val_loss: 0.0391 - val_accuracy: 0.9918\n",
      "Epoch 84/100\n",
      "216/216 [==============================] - 0s 2ms/step - loss: 0.0455 - accuracy: 0.9894 - val_loss: 0.0392 - val_accuracy: 0.9918\n",
      "Epoch 85/100\n",
      "216/216 [==============================] - 1s 3ms/step - loss: 0.0454 - accuracy: 0.9894 - val_loss: 0.0391 - val_accuracy: 0.9918\n",
      "Epoch 86/100\n",
      "216/216 [==============================] - 0s 2ms/step - loss: 0.0453 - accuracy: 0.9894 - val_loss: 0.0391 - val_accuracy: 0.9918\n",
      "Epoch 87/100\n",
      "216/216 [==============================] - 0s 2ms/step - loss: 0.0452 - accuracy: 0.9894 - val_loss: 0.0391 - val_accuracy: 0.9918\n",
      "Epoch 88/100\n",
      "216/216 [==============================] - 1s 3ms/step - loss: 0.0452 - accuracy: 0.9894 - val_loss: 0.0390 - val_accuracy: 0.9918\n",
      "Epoch 89/100\n",
      "216/216 [==============================] - 1s 2ms/step - loss: 0.0451 - accuracy: 0.9894 - val_loss: 0.0389 - val_accuracy: 0.9918\n",
      "Epoch 90/100\n",
      "216/216 [==============================] - 1s 2ms/step - loss: 0.0450 - accuracy: 0.9894 - val_loss: 0.0391 - val_accuracy: 0.9918\n",
      "Epoch 91/100\n",
      "216/216 [==============================] - 0s 2ms/step - loss: 0.0449 - accuracy: 0.9894 - val_loss: 0.0388 - val_accuracy: 0.9918\n",
      "Epoch 92/100\n",
      "216/216 [==============================] - 0s 2ms/step - loss: 0.0449 - accuracy: 0.9894 - val_loss: 0.0391 - val_accuracy: 0.9918\n",
      "Epoch 93/100\n",
      "216/216 [==============================] - 0s 2ms/step - loss: 0.0448 - accuracy: 0.9894 - val_loss: 0.0389 - val_accuracy: 0.9918\n",
      "Epoch 94/100\n",
      "216/216 [==============================] - 0s 2ms/step - loss: 0.0446 - accuracy: 0.9894 - val_loss: 0.0392 - val_accuracy: 0.9918\n",
      "Epoch 95/100\n",
      "216/216 [==============================] - 0s 2ms/step - loss: 0.0447 - accuracy: 0.9894 - val_loss: 0.0390 - val_accuracy: 0.9918\n",
      "Epoch 96/100\n",
      "216/216 [==============================] - 0s 2ms/step - loss: 0.0446 - accuracy: 0.9894 - val_loss: 0.0387 - val_accuracy: 0.9918\n",
      "Epoch 97/100\n",
      "216/216 [==============================] - 0s 2ms/step - loss: 0.0445 - accuracy: 0.9894 - val_loss: 0.0386 - val_accuracy: 0.9918\n",
      "Epoch 98/100\n",
      "216/216 [==============================] - 1s 3ms/step - loss: 0.0444 - accuracy: 0.9894 - val_loss: 0.0386 - val_accuracy: 0.9918\n",
      "Epoch 99/100\n",
      "216/216 [==============================] - 1s 2ms/step - loss: 0.0444 - accuracy: 0.9894 - val_loss: 0.0387 - val_accuracy: 0.9918\n",
      "Epoch 100/100\n",
      "216/216 [==============================] - 0s 2ms/step - loss: 0.0442 - accuracy: 0.9894 - val_loss: 0.0386 - val_accuracy: 0.9918\n"
     ]
    }
   ],
   "source": [
    "# Applying the results obtained from TensorBoard\n",
    "model3 = tf.keras.models.Sequential([\n",
    "        tf.keras.layers.Dense(20, activation=\"relu\"),\n",
    "        tf.keras.layers.Dense(1, activation=\"sigmoid\")\n",
    "        ])\n",
    "    \n",
    "    \n",
    "optimizer = tf.keras.optimizers.SGD(learning_rate=0.025099)\n",
    "\n",
    "# Compile the model3 \n",
    "model3.compile(  optimizer=optimizer,\n",
    "                loss='binary_crossentropy',\n",
    "                metrics=['accuracy'])\n",
    "                \n",
    "# train the model3\n",
    "log3 = model3.fit(X_train, y_train, epochs=100,\n",
    "                     validation_data=(X_valid, y_valid))"
   ]
  },
  {
   "cell_type": "code",
   "execution_count": 52,
   "metadata": {},
   "outputs": [],
   "source": [
    "# save model3.h5 file\n",
    "# model3.save(\"my_tf_best_model3.h5\")"
   ]
  },
  {
   "cell_type": "code",
   "execution_count": 62,
   "metadata": {},
   "outputs": [],
   "source": [
    "# load the best model 3 \n",
    "saved_model3= tf.keras.models.load_model(\"my_tf_best_model3.h5\")"
   ]
  },
  {
   "cell_type": "code",
   "execution_count": 54,
   "metadata": {},
   "outputs": [
    {
     "data": {
      "image/png": "[encoded data removed]",
      "text/plain": [
       "<Figure size 432x288 with 1 Axes>"
      ]
     },
     "metadata": {
      "needs_background": "light"
     },
     "output_type": "display_data"
    }
   ],
   "source": [
    "#Plot training loss and validation loss\n",
    "plt.plot(log3.history['loss'],label = \"training loss\")\n",
    "plt.plot(log3.history['val_loss'], label = \"validation loss\")\n",
    "plt.legend()\n",
    "plt.show()"
   ]
  },
  {
   "cell_type": "code",
   "execution_count": 55,
   "metadata": {},
   "outputs": [
    {
     "data": {
      "image/png": "[encoded data removed]",
      "text/plain": [
       "<Figure size 432x288 with 1 Axes>"
      ]
     },
     "metadata": {
      "needs_background": "light"
     },
     "output_type": "display_data"
    }
   ],
   "source": [
    "#Plot training accuracy and validation accuracy\n",
    "plt.plot(log3.history['accuracy'],label = \"training accuracy\")\n",
    "plt.plot(log3.history['val_accuracy'], label = \"validation accuracy\")\n",
    "plt.legend()\n",
    "plt.show()"
   ]
  },
  {
   "cell_type": "markdown",
   "metadata": {},
   "source": [
    "## Q3.4 Evaluate Model on the Test set"
   ]
  },
  {
   "cell_type": "code",
   "execution_count": 63,
   "metadata": {},
   "outputs": [],
   "source": [
    "# Get th probability of the y label in validation set\n",
    "y_prob3 = saved_model3.predict(X_valid)"
   ]
  },
  {
   "cell_type": "code",
   "execution_count": 64,
   "metadata": {},
   "outputs": [
    {
     "name": "stdout",
     "output_type": "stream",
     "text": [
      "AUC test:  0.8773926062420823\n"
     ]
    },
    {
     "data": {
      "image/png": "[encoded data removed]",
      "text/plain": [
       "<Figure size 432x288 with 1 Axes>"
      ]
     },
     "metadata": {},
     "output_type": "display_data"
    }
   ],
   "source": [
    "# Draw the ROC curve and calculate AUC score\n",
    "fpr, tpr, thr = roc_curve(y_valid, y_prob3)\n",
    "roc_auc = auc(fpr, tpr)\n",
    "print('AUC test: ', roc_auc)\n",
    "\n",
    "sns.set('talk', 'darkgrid', 'dark', font_scale=1, \\\n",
    "        rc={\"lines.linewidth\": 2, 'grid.linestyle': '--'})\n",
    "\n",
    "lw = 2\n",
    "plt.figure()\n",
    "plt.plot(fpr, tpr, color='darkorange',\n",
    "         lw=lw, label='ROC curve (AUC = %0.2f)' % roc_auc)\n",
    "plt.plot([0,1], [0, 1], color='navy', lw=lw, linestyle='--')\n",
    "plt.xlim([0.0, 1.0])\n",
    "plt.ylim([0.0, 1.05])\n",
    "plt.xlabel('False Positive Rate')\n",
    "plt.ylabel('True Positive Rate')\n",
    "plt.title('Receiver Operating Characteristic curve')\n",
    "plt.legend(loc=\"lower right\")\n",
    "plt.show()"
   ]
  },
  {
   "cell_type": "code",
   "execution_count": 65,
   "metadata": {},
   "outputs": [
    {
     "name": "stdout",
     "output_type": "stream",
     "text": [
      "The best threshold according to the J statistic is 0.011238188\n"
     ]
    }
   ],
   "source": [
    "# Find the threshold based on the J statistic\n",
    "J3 = tpr - fpr\n",
    "print(\"The best threshold according to the J statistic is \" + str(thr[np.argmax(J3)]))\n"
   ]
  },
  {
   "cell_type": "code",
   "execution_count": 66,
   "metadata": {},
   "outputs": [
    {
     "data": {
      "text/plain": [
       "array([[1636,  649],\n",
       "       [   2,   17]])"
      ]
     },
     "execution_count": 66,
     "metadata": {},
     "output_type": "execute_result"
    }
   ],
   "source": [
    "# Get the prediction of the y label based on the J statistic in validation dataset\n",
    "y_predict_valid3= np.where(y_prob3 > thr[np.argmax(J3)], 1, 0)\n",
    "\n",
    "# Get the confusion matrix of the prediction within validation dataset\n",
    "cm3_valid = confusion_matrix(y_valid, y_predict_valid3)\n",
    "cm3_valid"
   ]
  },
  {
   "cell_type": "code",
   "execution_count": 67,
   "metadata": {},
   "outputs": [
    {
     "data": {
      "text/plain": [
       "0.7174479166666666"
      ]
     },
     "execution_count": 67,
     "metadata": {},
     "output_type": "execute_result"
    }
   ],
   "source": [
    "# To see the prediction accuracy of the model within validation dataset \n",
    "TN = cm3_valid[0][0]\n",
    "FP= cm3_valid[0][1]\n",
    "FN = cm3_valid[1][0]\n",
    "TP= cm3_valid[1][1]\n",
    "(TP + TN)/(TP +TN + FP + FN )"
   ]
  },
  {
   "cell_type": "code",
   "execution_count": 68,
   "metadata": {},
   "outputs": [
    {
     "name": "stdout",
     "output_type": "stream",
     "text": [
      "72/72 [==============================] - 0s 1ms/step - loss: 0.0458 - accuracy: 0.9900\n"
     ]
    },
    {
     "data": {
      "text/plain": [
       "[0.045779261738061905, 0.9900173544883728]"
      ]
     },
     "execution_count": 68,
     "metadata": {},
     "output_type": "execute_result"
    }
   ],
   "source": [
    "# Evaluate the model on test set\n",
    "saved_model3.evaluate(X_test, y_test)"
   ]
  },
  {
   "cell_type": "code",
   "execution_count": 69,
   "metadata": {},
   "outputs": [],
   "source": [
    "# Get the probability of the y label on the testing set\n",
    "y_prob_test3 = saved_model3.predict(X_test)"
   ]
  },
  {
   "cell_type": "code",
   "execution_count": 71,
   "metadata": {},
   "outputs": [
    {
     "data": {
      "text/plain": [
       "array([[1627,  654],\n",
       "       [   3,   20]])"
      ]
     },
     "execution_count": 71,
     "metadata": {},
     "output_type": "execute_result"
    }
   ],
   "source": [
    "# Get the prediction of the y label based on the J statistic in testing set\n",
    "y_predict_test3= np.where(y_prob_test3 > thr[np.argmax(J3)], 1, 0)\n",
    "cm3_test = confusion_matrix(y_test, y_predict_test3)\n",
    "cm3_test "
   ]
  },
  {
   "cell_type": "code",
   "execution_count": 72,
   "metadata": {},
   "outputs": [
    {
     "data": {
      "text/plain": [
       "0.71484375"
      ]
     },
     "execution_count": 72,
     "metadata": {},
     "output_type": "execute_result"
    }
   ],
   "source": [
    "# To see the prediction accuracy of the model within test dataset \n",
    "TN = cm3_test[0][0]\n",
    "FP= cm3_test[0][1]\n",
    "FN = cm3_test[1][0]\n",
    "TP= cm3_test[1][1]\n",
    "(TP + TN)/(TP +TN + FP + FN )"
   ]
  },
  {
   "cell_type": "markdown",
   "metadata": {},
   "source": [
    "## Q3.5 Briefly discuss the issues observed based on the metrics"
   ]
  },
  {
   "cell_type": "markdown",
   "metadata": {},
   "source": [
    "\n",
    "Model 3 parameters:\n",
    "- Number of neurons in the input layer: 69\n",
    "- Number of neurons in the hidden layer: 20\n",
    "- Number of hidden layers: 1\n",
    "- Number of neurons in the output layer: 1\n",
    "- Optimizer: SGD, Learning rate: 0.025099\n",
    "- Metrics: Accuracy\n",
    "\n",
    "\n",
    "We can observe that the accuracy of the model3 is around 71% in the test set. The AUC score we obtained is 88%, which indicates that our model presents a good performance in terms of prediction. However, we have to take into account that the dataset is imbalanced, with large number of non-fraud cases, which will lead to a high accuracy in terms of prediction. If we look at the confusion matrix of the model, it has managed to predict the majority of the positive fraud cases, but at the same time, it has considered large number of non-fradulent cases as fraudulent, which will also lead to creation of costs to the insurance company. As mentioned at the beginning of the file, when the dataset is imbalanced, it is hard to assess the performance of a model with the accuracy since it is higly influenced by the nature of the dataset implemented."
   ]
  },
  {
   "cell_type": "markdown",
   "metadata": {},
   "source": [
    "# Q4. SMOTE"
   ]
  },
  {
   "cell_type": "markdown",
   "metadata": {},
   "source": [
    "As mentioned previously, it is difficult to find a good classifier when the dataset is extremely imbalanced, such as this case. Therefore, one of the approaches is to apply the SMOTE and undersampling methods to the dataset. The general idea of this process consists of recreating more fraudulent datapoints from the existing ones and, at the same time, reduce the number of datapoints of non-fraudulent classes in order to obtain a more balanced dataset. \n",
    "\n",
    "Firstly, we have split the original datatset into train and test. The test set will remain unmodified and just the train set will go through the SMOTE process. The proportion saved to test set is 20%, and from the rest 80% we will split into train and validation set after the SMOTE and undersampling process. \n",
    "\n",
    "We consider that keeping the real datapoints collected as much as possible would be better for the real implementation of the model. Therefore, we did not set the proportions of 50-50% between the classes after the SMOTE. We have decided to create fraudulent datapoints to represent 20% of the minority class and after the undersampling process, the proportion of fraudulent cases is 33.3% in the training set before splitting."
   ]
  },
  {
   "cell_type": "code",
   "execution_count": 18,
   "metadata": {},
   "outputs": [
    {
     "data": {
      "text/plain": [
       "23"
      ]
     },
     "execution_count": 18,
     "metadata": {},
     "output_type": "execute_result"
    }
   ],
   "source": [
    "# Splitting into training and testing set\n",
    "X_train5, X_test5, y_train5, y_test5 = train_test_split(X,y,test_size= 0.2, random_state=888)\n",
    "np.sum(y_test5)"
   ]
  },
  {
   "cell_type": "code",
   "execution_count": 19,
   "metadata": {},
   "outputs": [],
   "source": [
    "# Scale the X-training data and then use the same scaler on the test data\n",
    "from sklearn.preprocessing import MinMaxScaler\n",
    "scaler = MinMaxScaler()\n",
    "X_train5 = scaler.fit_transform(X_train5)\n",
    "X_test5 = scaler.transform(X_test5)"
   ]
  },
  {
   "cell_type": "code",
   "execution_count": 20,
   "metadata": {},
   "outputs": [],
   "source": [
    "over = imblearn.over_sampling.SMOTE(sampling_strategy=0.2, random_state = 888)\n",
    "under = imblearn.under_sampling.RandomUnderSampler(sampling_strategy=0.5, random_state = 241)\n",
    "steps = [('o', over), ('u', under)]\n",
    "pipeline = imblearn.pipeline.Pipeline(steps=steps)\n",
    "X_synth, y_synth = pipeline.fit_resample(X_train5, y_train5)"
   ]
  },
  {
   "cell_type": "code",
   "execution_count": 21,
   "metadata": {},
   "outputs": [
    {
     "data": {
      "text/plain": [
       "<matplotlib.collections.PathCollection at 0x7fb02a565be0>"
      ]
     },
     "execution_count": 21,
     "metadata": {},
     "output_type": "execute_result"
    },
    {
     "data": {
      "image/png": "[encoded data removed]",
      "text/plain": [
       "<Figure size 432x288 with 2 Axes>"
      ]
     },
     "metadata": {
      "needs_background": "light"
     },
     "output_type": "display_data"
    }
   ],
   "source": [
    "# visualise the process\n",
    "plt.subplot(1,2,1)\n",
    "plt.scatter(X_train5[:, 0], X_train5[:, 1], c=y_train5, s=10, cmap=\"Accent_r\")\n",
    "plt.subplot(1,2,2)\n",
    "plt.scatter(X_synth[:, 0], X_synth[:, 1], c=y_synth, s=10, cmap=\"Accent_r\")"
   ]
  },
  {
   "cell_type": "code",
   "execution_count": 22,
   "metadata": {},
   "outputs": [
    {
     "name": "stdout",
     "output_type": "stream",
     "text": [
      "(1368, 69)\n",
      "(4104, 69)\n"
     ]
    }
   ],
   "source": [
    "# Split into train and validation dataset\n",
    "X_train5, X_valid5, y_train5, y_valid5 = train_test_split(X_synth,y_synth, test_size= 0.25, random_state=888)\n",
    "print(X_valid5.shape)\n",
    "print(X_train5.shape)"
   ]
  },
  {
   "cell_type": "markdown",
   "metadata": {},
   "source": [
    "# Q5. Creating a New Neural Network on Enhanced Dataset (Model 5)"
   ]
  },
  {
   "cell_type": "markdown",
   "metadata": {},
   "source": [
    "After the implementation of SMOTE and undersampling to the dataset, we have ended up with a more balanced data where the number of observations per class is more equivalent than before. Under this situation, it would be easier for us to determine whether our model is performing well in terms of fraud detection and trust more on the metrics obtained, since the bias from dataset has been decreased as well as its influence on the prediction results. This means that, we might see a decrease in the accuracy rate, which was previously overfitted by the large non-fraudulent clients in Model 3. \n",
    "\n",
    "We will use the tuner Hyperband to choose the best parameters for the Model 5:\n",
    "- Number of hidden layers: 2\n",
    "- Number of neurons in the hidden layer: 7\n",
    "- Number of neurons in the output layer: 1\n",
    "- Number of neurons in the input layer: 69\n",
    "- Optimizer: Adam, Learning rate: 0.00204\n",
    "\n",
    "\n",
    "After the implementation of the new neural network model to the original test set that we split, we obtain an AUC score of around 77% and an accuracy of 87%, which is higher than Model 3, showing the good prediction performance of this model. Compared with our expectations, the false positive rate decreased, meaning that, the model make less erros when assigning non-fraudulent claims as fradulent.\n",
    "\n",
    "By comparing the results between Model 3 and 5, we could see that once the dataset is more balanced, the model is able to learn more regarding the patterns and charasteristics of fraudulent cases than before, which has caused the decrease in the false positive rate. \n",
    "\n",
    "The model can still be improved by trying more number of combinations between the different hyperparameters, such as dropout rate, the activation functions, or by adding more hidden layers. However, we consider that the number of hidden layers should be kept under 3 to avoid overfitting of the data. "
   ]
  },
  {
   "cell_type": "code",
   "execution_count": 320,
   "metadata": {},
   "outputs": [],
   "source": [
    "# clear TensorFlow session \n",
    "tf.keras.backend.clear_session()\n",
    "np.random.seed(888)\n",
    "tf.random.set_seed(888)"
   ]
  },
  {
   "cell_type": "code",
   "execution_count": 79,
   "metadata": {},
   "outputs": [],
   "source": [
    "# Keras Tuner Define Fuction\n",
    "def train_model5(hp):    \n",
    "    num_units = hp.Int('num_units', min_value = 3, max_value=20)\n",
    "    optim_algo = hp.Choice('optimizer', values=['sgd','adam']) \n",
    "    learning_rate = hp.Float('learning_rate', min_value = 0.001, max_value=1.0, sampling='log') \n",
    "    reg_param = 0.01 #the lambda\n",
    "    regularizer = tf.keras.regularizers.l2(reg_param)   \n",
    "\n",
    "    tf.keras.backend.clear_session()\n",
    "    np.random.seed(888)\n",
    "    tf.random.set_seed(888)\n",
    "    \n",
    "    model5 = tf.keras.models.Sequential([\n",
    "        tf.keras.layers.Dense(num_units, activation=\"relu\", kernel_regularizer=regularizer),\n",
    "        tf.keras.layers.Dense(num_units, activation=\"relu\", kernel_regularizer=regularizer),\n",
    "        tf.keras.layers.Dense(1, activation='sigmoid', kernel_regularizer=regularizer)])\n",
    "    \n",
    "    if optim_algo == 'sgd':\n",
    "        optimizer = tf.keras.optimizers.SGD(learning_rate=learning_rate,clipvalue=1)\n",
    "    elif optim_algo == 'adam':\n",
    "        optimizer = tf.keras.optimizers.Adam(learning_rate=learning_rate)\n",
    "            \n",
    "        \n",
    "    model5.compile(  optimizer=optimizer,\n",
    "                    loss='binary_crossentropy',\n",
    "                    metrics=['accuracy'])\n",
    "    \n",
    "    return model5"
   ]
  },
  {
   "cell_type": "code",
   "execution_count": 80,
   "metadata": {},
   "outputs": [],
   "source": [
    "import keras_tuner as kt\n",
    "tuner5 = kt.Hyperband(train_model5,\n",
    "                     objective='val_loss',\n",
    "                     max_epochs=30,\n",
    "                     factor=3,\n",
    "                     directory='logs2',\n",
    "                     project_name='kt_model5')      \n"
   ]
  },
  {
   "cell_type": "code",
   "execution_count": 81,
   "metadata": {},
   "outputs": [],
   "source": [
    "rm -rf ./logs2/"
   ]
  },
  {
   "cell_type": "code",
   "execution_count": 82,
   "metadata": {},
   "outputs": [
    {
     "name": "stdout",
     "output_type": "stream",
     "text": [
      "Trial 90 Complete [00h 00m 21s]\n",
      "val_loss: 0.4116276204586029\n",
      "\n",
      "Best val_loss So Far: 0.41145190596580505\n",
      "Total elapsed time: 00h 08m 01s\n",
      "INFO:tensorflow:Oracle triggered exit\n"
     ]
    }
   ],
   "source": [
    "# Run the tuner with the `search` function. \n",
    "tuner5.search(X_train5,y_train5,validation_data=(X_valid5,y_valid5))"
   ]
  },
  {
   "cell_type": "code",
   "execution_count": 321,
   "metadata": {},
   "outputs": [
    {
     "name": "stdout",
     "output_type": "stream",
     "text": [
      "Best learning rate: 0.002043162836688989\n",
      "Best number of hidden units: 7\n",
      "Best number optimizer: adam\n"
     ]
    }
   ],
   "source": [
    "# Get the statistics information of the best hyperparameter set found so far.\n",
    "best_hps5 = tuner5.get_best_hyperparameters()[0]\n",
    "print(\"Best learning rate: \" + str(best_hps5['learning_rate']))\n",
    "print(\"Best number of hidden units: \" + str(best_hps5['num_units']))\n",
    "print(\"Best number optimizer: \" + str(best_hps5['optimizer']))"
   ]
  },
  {
   "cell_type": "code",
   "execution_count": 322,
   "metadata": {},
   "outputs": [],
   "source": [
    "# Using the best hyperparameters to build training model\n",
    "best_model5 = tuner5.hypermodel.build(best_hps5)"
   ]
  },
  {
   "cell_type": "code",
   "execution_count": 323,
   "metadata": {},
   "outputs": [
    {
     "name": "stdout",
     "output_type": "stream",
     "text": [
      "Epoch 1/60\n",
      "129/129 [==============================] - 1s 3ms/step - loss: 0.7281 - accuracy: 0.6633 - val_loss: 0.5874 - val_accuracy: 0.6681\n",
      "Epoch 2/60\n",
      "129/129 [==============================] - 0s 2ms/step - loss: 0.5264 - accuracy: 0.7680 - val_loss: 0.4789 - val_accuracy: 0.8319\n",
      "Epoch 3/60\n",
      "129/129 [==============================] - 0s 2ms/step - loss: 0.4682 - accuracy: 0.8372 - val_loss: 0.4448 - val_accuracy: 0.8655\n",
      "Epoch 4/60\n",
      "129/129 [==============================] - 0s 2ms/step - loss: 0.4489 - accuracy: 0.8553 - val_loss: 0.4405 - val_accuracy: 0.8406\n",
      "Epoch 5/60\n",
      "129/129 [==============================] - 0s 2ms/step - loss: 0.4352 - accuracy: 0.8706 - val_loss: 0.4290 - val_accuracy: 0.8874\n",
      "Epoch 6/60\n",
      "129/129 [==============================] - 0s 2ms/step - loss: 0.4327 - accuracy: 0.8750 - val_loss: 0.4236 - val_accuracy: 0.8801\n",
      "Epoch 7/60\n",
      "129/129 [==============================] - 0s 2ms/step - loss: 0.4277 - accuracy: 0.8828 - val_loss: 0.4209 - val_accuracy: 0.8925\n",
      "Epoch 8/60\n",
      "129/129 [==============================] - 0s 2ms/step - loss: 0.4247 - accuracy: 0.8840 - val_loss: 0.4212 - val_accuracy: 0.8904\n",
      "Epoch 9/60\n",
      "129/129 [==============================] - 0s 2ms/step - loss: 0.4233 - accuracy: 0.8828 - val_loss: 0.4199 - val_accuracy: 0.8984\n",
      "Epoch 10/60\n",
      "129/129 [==============================] - 0s 3ms/step - loss: 0.4239 - accuracy: 0.8879 - val_loss: 0.4199 - val_accuracy: 0.8911\n",
      "Epoch 11/60\n",
      "129/129 [==============================] - 0s 2ms/step - loss: 0.4216 - accuracy: 0.8869 - val_loss: 0.4186 - val_accuracy: 0.8925\n",
      "Epoch 12/60\n",
      "129/129 [==============================] - 0s 2ms/step - loss: 0.4213 - accuracy: 0.8857 - val_loss: 0.4180 - val_accuracy: 0.8991\n",
      "Epoch 13/60\n",
      "129/129 [==============================] - 0s 2ms/step - loss: 0.4207 - accuracy: 0.8874 - val_loss: 0.4216 - val_accuracy: 0.8940\n",
      "Epoch 14/60\n",
      "129/129 [==============================] - 0s 2ms/step - loss: 0.4227 - accuracy: 0.8823 - val_loss: 0.4158 - val_accuracy: 0.9035\n",
      "Epoch 15/60\n",
      "129/129 [==============================] - 0s 2ms/step - loss: 0.4212 - accuracy: 0.8867 - val_loss: 0.4165 - val_accuracy: 0.8933\n",
      "Epoch 16/60\n",
      "129/129 [==============================] - 0s 2ms/step - loss: 0.4198 - accuracy: 0.8884 - val_loss: 0.4147 - val_accuracy: 0.9013\n",
      "Epoch 17/60\n",
      "129/129 [==============================] - 0s 2ms/step - loss: 0.4206 - accuracy: 0.8901 - val_loss: 0.4138 - val_accuracy: 0.9013\n",
      "Epoch 18/60\n",
      "129/129 [==============================] - 0s 2ms/step - loss: 0.4183 - accuracy: 0.8882 - val_loss: 0.4173 - val_accuracy: 0.8925\n",
      "Epoch 19/60\n",
      "129/129 [==============================] - 0s 2ms/step - loss: 0.4195 - accuracy: 0.8923 - val_loss: 0.4280 - val_accuracy: 0.8735\n",
      "Epoch 20/60\n",
      "129/129 [==============================] - 0s 2ms/step - loss: 0.4200 - accuracy: 0.8879 - val_loss: 0.4149 - val_accuracy: 0.9020\n",
      "Epoch 21/60\n",
      "129/129 [==============================] - 0s 2ms/step - loss: 0.4188 - accuracy: 0.8889 - val_loss: 0.4142 - val_accuracy: 0.9079\n",
      "Epoch 22/60\n",
      "129/129 [==============================] - 1s 5ms/step - loss: 0.4177 - accuracy: 0.8916 - val_loss: 0.4143 - val_accuracy: 0.8999\n",
      "Epoch 23/60\n",
      "129/129 [==============================] - 0s 2ms/step - loss: 0.4188 - accuracy: 0.8904 - val_loss: 0.4125 - val_accuracy: 0.9013\n",
      "Epoch 24/60\n",
      "129/129 [==============================] - 0s 2ms/step - loss: 0.4181 - accuracy: 0.8916 - val_loss: 0.4177 - val_accuracy: 0.8889\n",
      "Epoch 25/60\n",
      "129/129 [==============================] - 0s 2ms/step - loss: 0.4183 - accuracy: 0.8889 - val_loss: 0.4123 - val_accuracy: 0.8991\n",
      "Epoch 26/60\n",
      "129/129 [==============================] - 0s 2ms/step - loss: 0.4153 - accuracy: 0.8918 - val_loss: 0.4147 - val_accuracy: 0.9057\n",
      "Epoch 27/60\n",
      "129/129 [==============================] - 0s 2ms/step - loss: 0.4150 - accuracy: 0.8918 - val_loss: 0.4140 - val_accuracy: 0.9035\n",
      "Epoch 28/60\n",
      "129/129 [==============================] - 0s 2ms/step - loss: 0.4160 - accuracy: 0.8891 - val_loss: 0.4115 - val_accuracy: 0.9006\n",
      "Epoch 29/60\n",
      "129/129 [==============================] - 0s 2ms/step - loss: 0.4156 - accuracy: 0.8918 - val_loss: 0.4127 - val_accuracy: 0.9079\n",
      "Epoch 30/60\n",
      "129/129 [==============================] - 0s 2ms/step - loss: 0.4159 - accuracy: 0.8933 - val_loss: 0.4117 - val_accuracy: 0.9079\n",
      "Epoch 31/60\n",
      "129/129 [==============================] - 0s 2ms/step - loss: 0.4155 - accuracy: 0.8925 - val_loss: 0.4137 - val_accuracy: 0.8999\n",
      "Epoch 32/60\n",
      "129/129 [==============================] - 0s 2ms/step - loss: 0.4145 - accuracy: 0.8925 - val_loss: 0.4132 - val_accuracy: 0.9042\n",
      "Epoch 33/60\n",
      "129/129 [==============================] - 0s 2ms/step - loss: 0.4165 - accuracy: 0.8913 - val_loss: 0.4118 - val_accuracy: 0.9064\n",
      "Epoch 34/60\n",
      "129/129 [==============================] - 0s 2ms/step - loss: 0.4156 - accuracy: 0.8901 - val_loss: 0.4120 - val_accuracy: 0.9050\n",
      "Epoch 35/60\n",
      "129/129 [==============================] - 0s 2ms/step - loss: 0.4175 - accuracy: 0.8916 - val_loss: 0.4105 - val_accuracy: 0.9020\n",
      "Epoch 36/60\n",
      "129/129 [==============================] - 0s 2ms/step - loss: 0.4152 - accuracy: 0.8899 - val_loss: 0.4152 - val_accuracy: 0.8999\n",
      "Epoch 37/60\n",
      "129/129 [==============================] - 0s 2ms/step - loss: 0.4154 - accuracy: 0.8938 - val_loss: 0.4138 - val_accuracy: 0.8991\n",
      "Epoch 38/60\n",
      "129/129 [==============================] - 0s 2ms/step - loss: 0.4152 - accuracy: 0.8906 - val_loss: 0.4183 - val_accuracy: 0.8999\n",
      "Epoch 39/60\n",
      "129/129 [==============================] - 0s 2ms/step - loss: 0.4147 - accuracy: 0.8945 - val_loss: 0.4105 - val_accuracy: 0.9064\n",
      "Epoch 40/60\n",
      "129/129 [==============================] - 0s 2ms/step - loss: 0.4153 - accuracy: 0.8925 - val_loss: 0.4094 - val_accuracy: 0.9042\n",
      "Epoch 41/60\n",
      "129/129 [==============================] - 0s 2ms/step - loss: 0.4148 - accuracy: 0.8960 - val_loss: 0.4101 - val_accuracy: 0.9035\n",
      "Epoch 42/60\n",
      "129/129 [==============================] - 0s 2ms/step - loss: 0.4156 - accuracy: 0.8962 - val_loss: 0.4110 - val_accuracy: 0.9064\n",
      "Epoch 43/60\n",
      "129/129 [==============================] - 0s 2ms/step - loss: 0.4144 - accuracy: 0.8977 - val_loss: 0.4107 - val_accuracy: 0.9101\n",
      "Epoch 44/60\n",
      "129/129 [==============================] - 0s 2ms/step - loss: 0.4155 - accuracy: 0.8960 - val_loss: 0.4120 - val_accuracy: 0.9108\n",
      "Epoch 45/60\n",
      "129/129 [==============================] - 0s 2ms/step - loss: 0.4164 - accuracy: 0.8935 - val_loss: 0.4122 - val_accuracy: 0.9013\n",
      "Epoch 46/60\n",
      "129/129 [==============================] - 0s 2ms/step - loss: 0.4140 - accuracy: 0.8942 - val_loss: 0.4099 - val_accuracy: 0.9072\n",
      "Epoch 47/60\n",
      "129/129 [==============================] - 0s 2ms/step - loss: 0.4146 - accuracy: 0.8967 - val_loss: 0.4090 - val_accuracy: 0.9035\n",
      "Epoch 48/60\n",
      "129/129 [==============================] - 0s 2ms/step - loss: 0.4144 - accuracy: 0.8935 - val_loss: 0.4102 - val_accuracy: 0.9094\n",
      "Epoch 49/60\n",
      "129/129 [==============================] - 0s 2ms/step - loss: 0.4144 - accuracy: 0.8928 - val_loss: 0.4112 - val_accuracy: 0.9072\n",
      "Epoch 50/60\n",
      "129/129 [==============================] - 0s 2ms/step - loss: 0.4142 - accuracy: 0.8945 - val_loss: 0.4106 - val_accuracy: 0.9108\n",
      "Epoch 51/60\n",
      "129/129 [==============================] - 0s 2ms/step - loss: 0.4132 - accuracy: 0.8964 - val_loss: 0.4107 - val_accuracy: 0.9057\n",
      "Epoch 52/60\n",
      "129/129 [==============================] - 0s 2ms/step - loss: 0.4136 - accuracy: 0.8955 - val_loss: 0.4119 - val_accuracy: 0.9064\n",
      "Epoch 53/60\n",
      "129/129 [==============================] - 0s 2ms/step - loss: 0.4157 - accuracy: 0.8940 - val_loss: 0.4117 - val_accuracy: 0.9028\n",
      "Epoch 54/60\n",
      "129/129 [==============================] - 0s 2ms/step - loss: 0.4141 - accuracy: 0.8969 - val_loss: 0.4165 - val_accuracy: 0.8925\n",
      "Epoch 55/60\n",
      "129/129 [==============================] - 0s 2ms/step - loss: 0.4165 - accuracy: 0.8908 - val_loss: 0.4102 - val_accuracy: 0.9035\n",
      "Epoch 56/60\n",
      "129/129 [==============================] - 0s 2ms/step - loss: 0.4126 - accuracy: 0.8960 - val_loss: 0.4132 - val_accuracy: 0.8999\n",
      "Epoch 57/60\n",
      "129/129 [==============================] - 0s 2ms/step - loss: 0.4153 - accuracy: 0.8923 - val_loss: 0.4137 - val_accuracy: 0.9028\n",
      "Epoch 58/60\n",
      "129/129 [==============================] - 0s 2ms/step - loss: 0.4135 - accuracy: 0.8969 - val_loss: 0.4160 - val_accuracy: 0.9035\n",
      "Epoch 59/60\n",
      "129/129 [==============================] - 0s 2ms/step - loss: 0.4146 - accuracy: 0.8955 - val_loss: 0.4116 - val_accuracy: 0.9042\n",
      "Epoch 60/60\n",
      "129/129 [==============================] - 0s 2ms/step - loss: 0.4136 - accuracy: 0.8957 - val_loss: 0.4110 - val_accuracy: 0.9064\n"
     ]
    }
   ],
   "source": [
    "# Train the model5\n",
    "log5 = best_model5.fit(X_train5, y_train5,\n",
    "               epochs=60,\n",
    "               validation_data=(X_valid5,y_valid5))"
   ]
  },
  {
   "cell_type": "code",
   "execution_count": 324,
   "metadata": {},
   "outputs": [],
   "source": [
    "# Save the best model5\n",
    "#best_model5.save(\"my_tf_best_model5_.h5\") "
   ]
  },
  {
   "cell_type": "code",
   "execution_count": 325,
   "metadata": {},
   "outputs": [],
   "source": [
    "# Load the best model5\n",
    "saved_model5= tf.keras.models.load_model(\"my_tf_best_model5_.h5\")"
   ]
  },
  {
   "cell_type": "code",
   "execution_count": 326,
   "metadata": {},
   "outputs": [
    {
     "data": {
      "image/png": "[encoded data removed]",
      "text/plain": [
       "<Figure size 1440x432 with 1 Axes>"
      ]
     },
     "metadata": {},
     "output_type": "display_data"
    }
   ],
   "source": [
    "plt.figure(figsize=(20,6))\n",
    "plt.plot(log5.history['loss'],label = \"training loss\")\n",
    "plt.plot(log5.history['val_loss'], label = \"validation loss\")\n",
    "plt.legend()\n",
    "plt.show()"
   ]
  },
  {
   "cell_type": "code",
   "execution_count": 327,
   "metadata": {},
   "outputs": [
    {
     "data": {
      "image/png": "[encoded data removed]",
      "text/plain": [
       "<Figure size 1080x432 with 1 Axes>"
      ]
     },
     "metadata": {},
     "output_type": "display_data"
    }
   ],
   "source": [
    "plt.figure(figsize=(15,6))\n",
    "plt.plot(log5.history['accuracy'],label = \"training accuracy\")\n",
    "plt.plot(log5.history['val_accuracy'], label = \"validation accuracy\")\n",
    "plt.legend()\n",
    "plt.show()"
   ]
  },
  {
   "cell_type": "code",
   "execution_count": 328,
   "metadata": {},
   "outputs": [],
   "source": [
    "# Get th probability of the y label in validation set\n",
    "y_prob5 = saved_model5.predict(X_valid5)"
   ]
  },
  {
   "cell_type": "code",
   "execution_count": 329,
   "metadata": {},
   "outputs": [
    {
     "name": "stdout",
     "output_type": "stream",
     "text": [
      "AUC test:  0.9603355536490616\n"
     ]
    },
    {
     "data": {
      "image/png": "[encoded data removed]",
      "text/plain": [
       "<Figure size 432x288 with 1 Axes>"
      ]
     },
     "metadata": {},
     "output_type": "display_data"
    }
   ],
   "source": [
    "# Draw the ROC curve and calculate AUC score\n",
    "fpr5, tpr5, thr5 = roc_curve(y_valid5, y_prob5)\n",
    "roc_auc5 = auc(fpr5, tpr5)\n",
    "print('AUC test: ', roc_auc5)\n",
    "\n",
    "sns.set('talk', 'darkgrid', 'dark', font_scale=1, \\\n",
    "        rc={\"lines.linewidth\": 2, 'grid.linestyle': '--'})\n",
    "\n",
    "lw = 2\n",
    "plt.figure()\n",
    "plt.plot(fpr5, tpr5, color='darkorange',\n",
    "         lw=lw, label='ROC curve (AUC = %0.2f)' % roc_auc5)\n",
    "plt.plot([0,1], [0, 1], color='navy', lw=lw, linestyle='--')\n",
    "plt.xlim([0.0, 1.0])\n",
    "plt.ylim([0.0, 1.05])\n",
    "plt.xlabel('False Positive Rate')\n",
    "plt.ylabel('True Positive Rate')\n",
    "plt.title('Receiver Operating Characteristic curve')\n",
    "plt.legend(loc=\"lower right\")\n",
    "plt.show()"
   ]
  },
  {
   "cell_type": "code",
   "execution_count": 330,
   "metadata": {},
   "outputs": [
    {
     "name": "stdout",
     "output_type": "stream",
     "text": [
      "The best threshold according to the J statistic is 0.412164\n"
     ]
    },
    {
     "data": {
      "text/plain": [
       "array([[824,  90],\n",
       "       [ 31, 423]])"
      ]
     },
     "execution_count": 330,
     "metadata": {},
     "output_type": "execute_result"
    }
   ],
   "source": [
    "# Find the threshold based on the J statistic\n",
    "J5 = tpr5 - fpr5\n",
    "print(\"The best threshold according to the J statistic is \" + str(thr5[np.argmax(J5)]))\n",
    "\n",
    "# Get the prediction of the y label based on the J statistic in validation dataset\n",
    "y_predict_valid5= np.where(y_prob5 > thr5[np.argmax(J5)], 1, 0)\n",
    "\n",
    "# Get the confusion matrix of the prediction within validation dataset\n",
    "cm5_valid = confusion_matrix(y_valid5, y_predict_valid5)\n",
    "cm5_valid"
   ]
  },
  {
   "cell_type": "code",
   "execution_count": 331,
   "metadata": {},
   "outputs": [
    {
     "data": {
      "text/plain": [
       "0.9115497076023392"
      ]
     },
     "execution_count": 331,
     "metadata": {},
     "output_type": "execute_result"
    }
   ],
   "source": [
    "# To see the prediction accuracy of the model within test dataset \n",
    "TN = cm5_valid[0][0]\n",
    "FP = cm5_valid[0][1]\n",
    "FN = cm5_valid[1][0]\n",
    "TP = cm5_valid[1][1]\n",
    "# Accuracy of the model5 in validation set\n",
    "(TP+TN)/(TP+TN+FP+FN)"
   ]
  },
  {
   "cell_type": "code",
   "execution_count": 332,
   "metadata": {},
   "outputs": [
    {
     "name": "stdout",
     "output_type": "stream",
     "text": [
      "72/72 [==============================] - 0s 1ms/step - loss: 0.3352 - accuracy: 0.9171\n",
      "72/72 [==============================] - 0s 1ms/step - loss: 0.3352 - accuracy: 0.9171\n",
      "MSE on test set: [0.3351598381996155, 0.9171006679534912]\n"
     ]
    }
   ],
   "source": [
    "saved_model5.evaluate(X_test5, y_test5)\n",
    "print(\"MSE on test set: \" + str(saved_model5.evaluate(X_test5, y_test5)))"
   ]
  },
  {
   "cell_type": "code",
   "execution_count": 333,
   "metadata": {},
   "outputs": [
    {
     "data": {
      "text/plain": [
       "array([[2011,  270],\n",
       "       [   8,   15]])"
      ]
     },
     "execution_count": 333,
     "metadata": {},
     "output_type": "execute_result"
    }
   ],
   "source": [
    "# Get the prediction of the y label based on the J statistic in testing set\n",
    "y_prob_test5 = saved_model5.predict(X_test5)\n",
    "y_predict_test5= np.where(y_prob_test5 > thr5[np.argmax(J5)], 1, 0)\n",
    "cm5_test = confusion_matrix(y_test5, y_predict_test5)\n",
    "cm5_test"
   ]
  },
  {
   "cell_type": "code",
   "execution_count": 334,
   "metadata": {},
   "outputs": [
    {
     "data": {
      "text/plain": [
       "0.8793402777777778"
      ]
     },
     "execution_count": 334,
     "metadata": {},
     "output_type": "execute_result"
    }
   ],
   "source": [
    "# To see the prediction accuracy of the model within test dataset \n",
    "TN = cm5_test[0][0]\n",
    "FP = cm5_test[0][1]\n",
    "FN = cm5_test[1][0]\n",
    "TP = cm5_test[1][1]\n",
    "\n",
    "(TP+TN)/(TP+TN+FP+FN)"
   ]
  },
  {
   "cell_type": "code",
   "execution_count": null,
   "metadata": {},
   "outputs": [],
   "source": [
    "from sklearn.metrics import roc_auc_score\n",
    "roc_test5 = roc_auc_score(y_test5,y_predict_test5)\n",
    "roc_test5 "
   ]
  },
  {
   "cell_type": "markdown",
   "metadata": {},
   "source": [
    "# Q6. Creating Dataset Used For Autoencoder Approach"
   ]
  },
  {
   "cell_type": "markdown",
   "metadata": {},
   "source": [
    "For the Autoencoder approach, we have to split the original dataset into three parts: training, validation and test set. In this case, in the training set, we will only include non-fraudulent observations, whereas in the validation and test set, we will include both classes. We want the model firstly to train and reproduce properly the non-fraudulent observations, and then use the validation set to evaluate the performance of the train model, by assessing the detection of anomal data (fraud cases) in the validation set. Once decided the model, we will apply it to the test set for prediction. In terms of the number of fradulent cases, it will be equally distributed between validation and test."
   ]
  },
  {
   "cell_type": "code",
   "execution_count": 99,
   "metadata": {},
   "outputs": [],
   "source": [
    "# Split df_fraud dataset into two subsets\n",
    "y_fraud= df[df['Fraud'] ==1]['Fraud']\n",
    "X_fraud = df[df['Fraud'] ==1].drop(columns= ['Fraud','PolicyholderNumber'])\n",
    "X_valid_fraud, X_test_fraud, y_valid_fraud, y_test_fraud = train_test_split(\n",
    "    X_fraud,y_fraud,test_size = 0.5, random_state = 888)"
   ]
  },
  {
   "cell_type": "code",
   "execution_count": 100,
   "metadata": {},
   "outputs": [],
   "source": [
    "# Split df_nonfraud dataset into three subsets\n",
    "y_nonfraud = df[df['Fraud'] ==0]['Fraud']\n",
    "X_nonfraud = df[df['Fraud'] ==0].drop(columns= ['Fraud','PolicyholderNumber'])\n",
    "\n",
    "X_train6, X_other_nonfraud, y_train6, y_other_nonfraud = train_test_split(\n",
    "    X_nonfraud,y_nonfraud,test_size = 0.4, random_state = 888)\n",
    "\n",
    "X_valid_nonfraud, X_test_nonfraud, y_valid_nonfraud, y_test_nonfraud = train_test_split(\n",
    "    X_other_nonfraud,y_other_nonfraud,test_size = 0.5, random_state = 888)\n"
   ]
  },
  {
   "cell_type": "code",
   "execution_count": 101,
   "metadata": {},
   "outputs": [],
   "source": [
    "# Concat fraud and non-fraud subsets as validation and test datasets\n",
    "X_valid6 = pd.concat([X_valid_fraud,X_valid_nonfraud])\n",
    "X_test6 = pd.concat([X_test_fraud, X_test_nonfraud])\n",
    "\n",
    "y_valid6 = pd.concat([y_valid_fraud,y_valid_nonfraud])\n",
    "y_test6 = pd.concat([y_test_fraud,y_test_nonfraud])"
   ]
  },
  {
   "cell_type": "markdown",
   "metadata": {},
   "source": [
    "# Q7. Using TensorFlow to Create Autoencoder (Model 7)"
   ]
  },
  {
   "cell_type": "markdown",
   "metadata": {},
   "source": [
    "\n",
    "Once the dataset is ready, we have to scale the variables before implementing the model. \n",
    "In this case, the model will have two hidden layers in the encoder part, as well as the decoder part. The hyperparameters for the model are set to a range, which through Hyperband tuner object, we will find the best parameters.\n",
    "\n",
    "\n",
    "Model 7 parameters:\n",
    "- Number of neurons in the input layer: 69\n",
    "- Number of neurons in the first hidden layer: 62\n",
    "- Number of neurons in the second hidden layer: 18\n",
    "- Number of hidden layers in encoder and decoder: 2\n",
    "- Number of neurons in the output layer: 1\n",
    "- Optimizer: Adam, Learning rate: 0.001963\n",
    "\n",
    "\n",
    "From the results obtained in the training phase, we could foresee that the model is not predicting at outstading level, since the mean squared error (MSE) between training and validation is not highly differentiate, meaning that, the model is not sensible to detect the anomal data from the validation set (the fraud cases). In this model, we have used two different approaches to determine the threshold, according to the mean squared error and the J-statistics, therefore, we will obtain two accuracy rates. For the prediction performance of the model decided by MSE, we obtained an accuracy of 67%, whereas for the one decided with J-statistics, we could reached to 88% with an AUC of 67%. However, it is relevant to consider that the metrics obtained are from an imbalanced dataset with few fraud cases, which might lead to a high accuracy rate. \n",
    "\n",
    "The model can still be improved in terms of prediction performance, especially if the imbalance between classes can be solved. In this case, one of the options could be proceed the SMOTE approach that we mentioned in Model 5, as well as, setting an initial bias into the model to reduce the initial loss. This would allow the model to not spend the first few epochs to learn that positive results are unlikely. Another approach could be passing Keras weights for each class through a parameter so that the under-represented class can weight heavier and be more relevant when processing the model.\n",
    "\n",
    "Another way to improve the performance of the model could be by trying more combinations between the hyperparameters in order to make the model learn more regarding the features of non-fraudulent cases so that it can detect better the anomal case of fradulent, so that the threshold line can different clearly between classes."
   ]
  },
  {
   "cell_type": "code",
   "execution_count": 450,
   "metadata": {},
   "outputs": [],
   "source": [
    "# Scale X-training data and then use the same scaler to valid and test dataset\n",
    "from sklearn.preprocessing import MinMaxScaler\n",
    "scaler = MinMaxScaler()\n",
    "X_train6 = scaler.fit_transform(X_train6)\n",
    "X_valid6 = scaler.fit_transform(X_valid6)\n",
    "X_test6 = scaler.transform(X_test6)"
   ]
  },
  {
   "cell_type": "code",
   "execution_count": 497,
   "metadata": {},
   "outputs": [],
   "source": [
    "# clear TensorFlow session\n",
    "from tensorflow.keras.layers import Dense\n",
    "tf.keras.backend.clear_session()\n",
    "np.random.seed(888)\n",
    "tf.random.set_seed(888)"
   ]
  },
  {
   "cell_type": "code",
   "execution_count": 498,
   "metadata": {},
   "outputs": [],
   "source": [
    "# Define function for training autoencoder model\n",
    "def train_autoencoder(hp):    \n",
    "    num_units = hp.Int('num_units', min_value = 50, max_value= 69)\n",
    "    num_units2 = hp.Int('num_units2', min_value = 5, max_value=20)\n",
    "\n",
    "    optim_algo = hp.Choice('optimizer', values=['sgd','adam']) \n",
    "    learning_rate = hp.Float('learning_rate', min_value = 0.001, max_value=0.01, sampling='log') \n",
    "    \n",
    "    reg_param = 0.01\n",
    "    regularizer = tf.keras.regularizers.l2(reg_param)\n",
    "\n",
    "    encoder = tf.keras.Sequential([\n",
    "    tf.keras.layers.Dense(num_units, activation=\"relu\"), \n",
    "    tf.keras.layers.Dense(num_units2, activation=\"relu\")\n",
    "    \n",
    "    ])\n",
    "\n",
    "    decoder = tf.keras.Sequential([\n",
    "    tf.keras.layers.Dense(num_units2, activation=\"relu\"), \n",
    "    tf.keras.layers.Dense(69, activation=\"sigmoid\")]) \n",
    "    \n",
    "    autoencoder = tf.keras.Sequential([encoder,decoder])\n",
    "    \n",
    "    if optim_algo == 'sgd':\n",
    "        optimizer = tf.keras.optimizers.SGD(learning_rate=learning_rate,clipvalue=1)\n",
    "    elif optim_algo == 'adam':\n",
    "        optimizer = tf.keras.optimizers.Adam(learning_rate=learning_rate)\n",
    "            \n",
    "       \n",
    "    \n",
    "    autoencoder.compile(optimizer=optimizer, \n",
    "                        loss=tf.keras.losses.MeanSquaredError())\n",
    "    \n",
    "    return autoencoder"
   ]
  },
  {
   "cell_type": "code",
   "execution_count": 499,
   "metadata": {},
   "outputs": [],
   "source": [
    "# Generate the `Hyperband` tuner object and search through the space of hyperparameters\n",
    "tuner7 = kt.Hyperband(train_autoencoder,\n",
    "                     objective='val_loss',\n",
    "                     max_epochs=30,\n",
    "                     factor=3,\n",
    "                     directory='logs3',\n",
    "                     project_name='kt_autoencoder')  "
   ]
  },
  {
   "cell_type": "code",
   "execution_count": null,
   "metadata": {},
   "outputs": [],
   "source": [
    "#%% clear out the folder\n",
    "rm -rf ./logs3/kt_autoencoder"
   ]
  },
  {
   "cell_type": "code",
   "execution_count": 500,
   "metadata": {},
   "outputs": [
    {
     "name": "stdout",
     "output_type": "stream",
     "text": [
      "Trial 90 Complete [00h 00m 16s]\n",
      "val_loss: 0.22154706716537476\n",
      "\n",
      "Best val_loss So Far: 0.006974291056394577\n",
      "Total elapsed time: 00h 07m 58s\n",
      "INFO:tensorflow:Oracle triggered exit\n"
     ]
    }
   ],
   "source": [
    "tuner7.search(X_train6,X_train6,validation_data=(X_valid6,X_valid6))"
   ]
  },
  {
   "cell_type": "code",
   "execution_count": 501,
   "metadata": {},
   "outputs": [
    {
     "name": "stdout",
     "output_type": "stream",
     "text": [
      "Best learning rate: 0.001963620627045603\n",
      "Best number of hidden units: 62\n",
      "Best number of hidden units: 18\n",
      "Best number optimizer: adam\n"
     ]
    }
   ],
   "source": [
    "best_hps7 = tuner7.get_best_hyperparameters()[0]\n",
    "print(\"Best learning rate: \" + str(best_hps7['learning_rate']))\n",
    "print(\"Best number of hidden units: \" + str(best_hps7['num_units']))\n",
    "print(\"Best number of hidden units: \" + str(best_hps7['num_units2']))\n",
    "print(\"Best number optimizer: \" + str(best_hps7['optimizer']))\n"
   ]
  },
  {
   "cell_type": "code",
   "execution_count": 502,
   "metadata": {},
   "outputs": [],
   "source": [
    "best_autoencoder = tuner7.hypermodel.build(best_hps7)"
   ]
  },
  {
   "cell_type": "code",
   "execution_count": 503,
   "metadata": {},
   "outputs": [
    {
     "name": "stdout",
     "output_type": "stream",
     "text": [
      "Epoch 1/40\n",
      "214/214 [==============================] - 1s 2ms/step - loss: 0.0642 - val_loss: 0.0266\n",
      "Epoch 2/40\n",
      "214/214 [==============================] - 0s 2ms/step - loss: 0.0216 - val_loss: 0.0183\n",
      "Epoch 3/40\n",
      "214/214 [==============================] - 0s 2ms/step - loss: 0.0165 - val_loss: 0.0154\n",
      "Epoch 4/40\n",
      "214/214 [==============================] - 0s 2ms/step - loss: 0.0144 - val_loss: 0.0137\n",
      "Epoch 5/40\n",
      "214/214 [==============================] - 0s 2ms/step - loss: 0.0127 - val_loss: 0.0125\n",
      "Epoch 6/40\n",
      "214/214 [==============================] - 0s 2ms/step - loss: 0.0115 - val_loss: 0.0116\n",
      "Epoch 7/40\n",
      "214/214 [==============================] - 0s 2ms/step - loss: 0.0109 - val_loss: 0.0112\n",
      "Epoch 8/40\n",
      "214/214 [==============================] - 0s 2ms/step - loss: 0.0103 - val_loss: 0.0106\n",
      "Epoch 9/40\n",
      "214/214 [==============================] - 0s 2ms/step - loss: 0.0100 - val_loss: 0.0104\n",
      "Epoch 10/40\n",
      "214/214 [==============================] - 0s 2ms/step - loss: 0.0098 - val_loss: 0.0102\n",
      "Epoch 11/40\n",
      "214/214 [==============================] - 0s 2ms/step - loss: 0.0094 - val_loss: 0.0098\n",
      "Epoch 12/40\n",
      "214/214 [==============================] - 0s 2ms/step - loss: 0.0091 - val_loss: 0.0095\n",
      "Epoch 13/40\n",
      "214/214 [==============================] - 1s 2ms/step - loss: 0.0089 - val_loss: 0.0094\n",
      "Epoch 14/40\n",
      "214/214 [==============================] - 0s 2ms/step - loss: 0.0087 - val_loss: 0.0092\n",
      "Epoch 15/40\n",
      "214/214 [==============================] - 0s 2ms/step - loss: 0.0086 - val_loss: 0.0092\n",
      "Epoch 16/40\n",
      "214/214 [==============================] - 0s 2ms/step - loss: 0.0085 - val_loss: 0.0090\n",
      "Epoch 17/40\n",
      "214/214 [==============================] - 0s 2ms/step - loss: 0.0084 - val_loss: 0.0089\n",
      "Epoch 18/40\n",
      "214/214 [==============================] - 0s 2ms/step - loss: 0.0084 - val_loss: 0.0089\n",
      "Epoch 19/40\n",
      "214/214 [==============================] - 0s 2ms/step - loss: 0.0083 - val_loss: 0.0089\n",
      "Epoch 20/40\n",
      "214/214 [==============================] - 0s 2ms/step - loss: 0.0082 - val_loss: 0.0088\n",
      "Epoch 21/40\n",
      "214/214 [==============================] - 0s 2ms/step - loss: 0.0082 - val_loss: 0.0087\n",
      "Epoch 22/40\n",
      "214/214 [==============================] - 0s 2ms/step - loss: 0.0082 - val_loss: 0.0087\n",
      "Epoch 23/40\n",
      "214/214 [==============================] - 0s 2ms/step - loss: 0.0082 - val_loss: 0.0087\n",
      "Epoch 24/40\n",
      "214/214 [==============================] - 0s 2ms/step - loss: 0.0082 - val_loss: 0.0087\n",
      "Epoch 25/40\n",
      "214/214 [==============================] - 0s 2ms/step - loss: 0.0081 - val_loss: 0.0087\n",
      "Epoch 26/40\n",
      "214/214 [==============================] - 0s 2ms/step - loss: 0.0081 - val_loss: 0.0086\n",
      "Epoch 27/40\n",
      "214/214 [==============================] - 0s 2ms/step - loss: 0.0081 - val_loss: 0.0086\n",
      "Epoch 28/40\n",
      "214/214 [==============================] - 1s 3ms/step - loss: 0.0081 - val_loss: 0.0087\n",
      "Epoch 29/40\n",
      "214/214 [==============================] - 0s 2ms/step - loss: 0.0081 - val_loss: 0.0086\n",
      "Epoch 30/40\n",
      "214/214 [==============================] - 0s 1ms/step - loss: 0.0081 - val_loss: 0.0086\n",
      "Epoch 31/40\n",
      "214/214 [==============================] - 0s 2ms/step - loss: 0.0081 - val_loss: 0.0087\n",
      "Epoch 32/40\n",
      "214/214 [==============================] - 0s 2ms/step - loss: 0.0080 - val_loss: 0.0086\n",
      "Epoch 33/40\n",
      "214/214 [==============================] - 0s 2ms/step - loss: 0.0080 - val_loss: 0.0086\n",
      "Epoch 34/40\n",
      "214/214 [==============================] - 0s 1ms/step - loss: 0.0080 - val_loss: 0.0086\n",
      "Epoch 35/40\n",
      "214/214 [==============================] - 0s 2ms/step - loss: 0.0080 - val_loss: 0.0085\n",
      "Epoch 36/40\n",
      "214/214 [==============================] - 0s 2ms/step - loss: 0.0078 - val_loss: 0.0082\n",
      "Epoch 37/40\n",
      "214/214 [==============================] - 1s 3ms/step - loss: 0.0077 - val_loss: 0.0080\n",
      "Epoch 38/40\n",
      "214/214 [==============================] - 0s 2ms/step - loss: 0.0076 - val_loss: 0.0081\n",
      "Epoch 39/40\n",
      "214/214 [==============================] - 0s 1ms/step - loss: 0.0076 - val_loss: 0.0080\n",
      "Epoch 40/40\n",
      "214/214 [==============================] - 0s 1ms/step - loss: 0.0075 - val_loss: 0.0081\n"
     ]
    }
   ],
   "source": [
    "# Train the model\n",
    "log7 = best_autoencoder.fit(x=X_train6, y=X_train6,\n",
    "                epochs=40,\n",
    "                validation_data=(X_valid6, X_valid6))"
   ]
  },
  {
   "cell_type": "code",
   "execution_count": 528,
   "metadata": {},
   "outputs": [],
   "source": [
    "#best_autoencoder.save(\"my_tf_best_model7_2.h5\") "
   ]
  },
  {
   "cell_type": "code",
   "execution_count": 529,
   "metadata": {},
   "outputs": [],
   "source": [
    "saved_model7 = tf.keras.models.load_model(\"my_tf_best_model7_2.h5\")"
   ]
  },
  {
   "cell_type": "code",
   "execution_count": 507,
   "metadata": {},
   "outputs": [
    {
     "data": {
      "image/png": "[encoded data removed]",
      "text/plain": [
       "<Figure size 432x288 with 1 Axes>"
      ]
     },
     "metadata": {},
     "output_type": "display_data"
    }
   ],
   "source": [
    "sns.set('talk', 'darkgrid', 'dark', font_scale=1, \\\n",
    "        rc={\"lines.linewidth\": 2, 'grid.linestyle': '--'})\n",
    "plt.plot(log7.history['loss'],label = \"training loss\")\n",
    "plt.plot(log7.history['val_loss'], label = \"validation loss\")\n",
    "plt.legend()\n",
    "plt.show()"
   ]
  },
  {
   "cell_type": "code",
   "execution_count": 508,
   "metadata": {},
   "outputs": [],
   "source": [
    "# Using the best autoencoder model to predict the X features within validaition set\n",
    "X_feature7 = saved_model7.predict(X_valid6)"
   ]
  },
  {
   "cell_type": "code",
   "execution_count": 509,
   "metadata": {},
   "outputs": [],
   "source": [
    "# For each observation, measure the difference between the original x features and the prediction one by using the mean square error \n",
    "mse7 = tf.keras.losses.MeanSquaredError(reduction=tf.keras.losses.Reduction.NONE)(\n",
    "    X_valid6, X_feature7).numpy()"
   ]
  },
  {
   "cell_type": "code",
   "execution_count": 510,
   "metadata": {},
   "outputs": [],
   "source": [
    "# Get the average of mean squared error within the validation set and then setting it as the threshold\n",
    "from sklearn.metrics import mean_squared_error\n",
    "k7 = mean_squared_error(X_valid6,X_feature7)\n",
    "y_label7 = y_valid6.apply(lambda x: \"Fraud\" if (x == 1) else \"Non-Fraud\" )"
   ]
  },
  {
   "cell_type": "code",
   "execution_count": 511,
   "metadata": {},
   "outputs": [
    {
     "data": {
      "text/plain": [
       "<matplotlib.lines.Line2D at 0x7fdca802ae80>"
      ]
     },
     "execution_count": 511,
     "metadata": {},
     "output_type": "execute_result"
    },
    {
     "data": {
      "image/png": "[encoded data removed]",
      "text/plain": [
       "<Figure size 576x432 with 1 Axes>"
      ]
     },
     "metadata": {},
     "output_type": "display_data"
    }
   ],
   "source": [
    "# Plot the mean squared errors for all validation set in a histogram\n",
    "plt.figure(figsize=(8, 6))\n",
    "sns.histplot(\n",
    "    x=mse7, y=y_label7, hue = y_label7, legend=True, bins = 30\n",
    ")\n",
    "# draw the clearly marking\n",
    "plt.axvline(x=k7, color='orange') "
   ]
  },
  {
   "cell_type": "code",
   "execution_count": 512,
   "metadata": {},
   "outputs": [
    {
     "data": {
      "text/plain": [
       "array([[1496,  785],\n",
       "       [  27,   30]])"
      ]
     },
     "execution_count": 512,
     "metadata": {},
     "output_type": "execute_result"
    }
   ],
   "source": [
    "# Using the threshold to predict the y label in validation set\n",
    "y_predict_valid8 = np.where(mse7 > k7, 1, 0)\n",
    "cm8_valid = confusion_matrix(y_valid6, y_predict_valid8)\n",
    "cm8_valid"
   ]
  },
  {
   "cell_type": "code",
   "execution_count": 513,
   "metadata": {},
   "outputs": [
    {
     "data": {
      "text/plain": [
       "0.6526946107784432"
      ]
     },
     "execution_count": 513,
     "metadata": {},
     "output_type": "execute_result"
    }
   ],
   "source": [
    "# Get the confusion matrix of the validation set \n",
    "TN = cm8_valid[0][0]\n",
    "FP = cm8_valid[0][1]\n",
    "FN = cm8_valid[1][0]\n",
    "TP= cm8_valid[1][1]\n",
    "\n",
    "## Get the accuracy of the Model7 used within the validation set\n",
    "(TP+TN)/(TP+TN+FP+FN)  # 0.7523"
   ]
  },
  {
   "cell_type": "markdown",
   "metadata": {},
   "source": [
    "# Q8. Train Autoencoder to Predict the Test Set"
   ]
  },
  {
   "cell_type": "markdown",
   "metadata": {},
   "source": [
    "## Q8.1 Setting the threshold by using mean squared error"
   ]
  },
  {
   "cell_type": "code",
   "execution_count": 514,
   "metadata": {},
   "outputs": [],
   "source": [
    "# Using the best autoencoder model to predict the X features within teset set\n",
    "x_feature8 = saved_model7.predict(X_test6)"
   ]
  },
  {
   "cell_type": "code",
   "execution_count": 515,
   "metadata": {},
   "outputs": [],
   "source": [
    "# For each observation, measure the difference between the original x features and the prediction one by using the mean square error \n",
    "mse8 = tf.keras.losses.MeanSquaredError(reduction=tf.keras.losses.Reduction.NONE)(X_test6, x_feature8).numpy()\n",
    "k8 = np.mean(mse8 )   \n",
    "\n",
    "y_label8 = y_test6.apply(lambda x: 'Fraud' if x == 1 else 'Non-Fraud' )\n"
   ]
  },
  {
   "cell_type": "code",
   "execution_count": 516,
   "metadata": {},
   "outputs": [
    {
     "data": {
      "text/plain": [
       "<matplotlib.lines.Line2D at 0x7fdca87699a0>"
      ]
     },
     "execution_count": 516,
     "metadata": {},
     "output_type": "execute_result"
    },
    {
     "data": {
      "image/png": "[encoded data removed]",
      "text/plain": [
       "<Figure size 432x288 with 1 Axes>"
      ]
     },
     "metadata": {},
     "output_type": "display_data"
    }
   ],
   "source": [
    "# Plot histogram of test set claims\n",
    "sns.histplot( x= mse8, y= y_label8, hue = y_label8, bins = 20,legend = True)\n",
    "plt.axvline(x=k8,color='orange') #clearly marking "
   ]
  },
  {
   "cell_type": "code",
   "execution_count": 517,
   "metadata": {},
   "outputs": [
    {
     "data": {
      "text/plain": [
       "array([[1539,  742],\n",
       "       [  24,   34]])"
      ]
     },
     "execution_count": 517,
     "metadata": {},
     "output_type": "execute_result"
    }
   ],
   "source": [
    "# Using the threshold to predict the y label in test set\n",
    "y_predict8= np.where(mse8 > k8, 1, 0)\n",
    "cm8 = confusion_matrix(y_test6, y_predict8)\n",
    "cm8"
   ]
  },
  {
   "cell_type": "code",
   "execution_count": 518,
   "metadata": {},
   "outputs": [
    {
     "data": {
      "text/plain": [
       "0.6725096194955109"
      ]
     },
     "execution_count": 518,
     "metadata": {},
     "output_type": "execute_result"
    }
   ],
   "source": [
    "# Get the confusion matrix of the test set \n",
    "TN_8 = cm8[0][0]\n",
    "FP_8 = cm8[0][1]\n",
    "FN_8 = cm8[1][0]\n",
    "TP_8= cm8[1][1]\n",
    "\n",
    "## Get the accuracy of the Model7 used within the test set\n",
    "(TP_8+TN_8)/(TP_8+TN_8+FP_8+FN_8)"
   ]
  },
  {
   "cell_type": "markdown",
   "metadata": {},
   "source": [
    "## Q8.2 Setting threshold by using J statistic"
   ]
  },
  {
   "cell_type": "code",
   "execution_count": 519,
   "metadata": {},
   "outputs": [
    {
     "name": "stdout",
     "output_type": "stream",
     "text": [
      "AUC test:  0.6316404777836744\n"
     ]
    },
    {
     "data": {
      "image/png": "[encoded data removed]",
      "text/plain": [
       "<Figure size 432x288 with 1 Axes>"
      ]
     },
     "metadata": {},
     "output_type": "display_data"
    }
   ],
   "source": [
    "fpr7, tpr7, thr7 = roc_curve(y_valid6, mse7)\n",
    "roc_auc7 = auc(fpr7, tpr7)\n",
    "print('AUC test: ', roc_auc7)\n",
    "\n",
    "sns.set('talk', 'darkgrid', 'dark', font_scale=1, \\\n",
    "        rc={\"lines.linewidth\": 2, 'grid.linestyle': '--'})\n",
    "\n",
    "lw = 2\n",
    "plt.figure()\n",
    "plt.plot(fpr7, tpr7, color='darkorange',\n",
    "         lw=lw, label='ROC curve (AUC = %0.2f)' % roc_auc7)\n",
    "plt.plot([0,1], [0, 1], color='navy', lw=lw, linestyle='--')\n",
    "plt.xlim([0.0, 1.0])\n",
    "plt.ylim([0.0, 1.05])\n",
    "plt.xlabel('False Positive Rate')\n",
    "plt.ylabel('True Positive Rate')\n",
    "plt.title('Receiver Operating Characteristic curve')\n",
    "plt.legend(loc=\"lower right\")\n",
    "plt.show()"
   ]
  },
  {
   "cell_type": "code",
   "execution_count": 530,
   "metadata": {},
   "outputs": [
    {
     "name": "stdout",
     "output_type": "stream",
     "text": [
      "The best threshold according to the J statistic is 0.029227952\n"
     ]
    }
   ],
   "source": [
    "#%% find threshold\n",
    "J7 = tpr7 - fpr7\n",
    "print('The best threshold according to the J statistic is '+ str(thr7[np.argmax(J7)]))"
   ]
  },
  {
   "cell_type": "code",
   "execution_count": 521,
   "metadata": {},
   "outputs": [
    {
     "data": {
      "text/plain": [
       "array([0, 0, 0, ..., 0, 0, 0])"
      ]
     },
     "execution_count": 521,
     "metadata": {},
     "output_type": "execute_result"
    }
   ],
   "source": [
    "# Get the prediction of the validation set based on J statistic threshold\n",
    "y_predict_valid7 = np.where(mse7 > thr7[np.argmax(J7)],1,0)\n",
    "y_predict_valid7"
   ]
  },
  {
   "cell_type": "code",
   "execution_count": 522,
   "metadata": {},
   "outputs": [
    {
     "data": {
      "text/plain": [
       "array([[2064,  217],\n",
       "       [  39,   18]])"
      ]
     },
     "execution_count": 522,
     "metadata": {},
     "output_type": "execute_result"
    }
   ],
   "source": [
    "# To see the confusion matrix of validation set\n",
    "cm7_valid = confusion_matrix(y_valid6, y_predict_valid7)\n",
    "cm7_valid"
   ]
  },
  {
   "cell_type": "code",
   "execution_count": 523,
   "metadata": {},
   "outputs": [
    {
     "data": {
      "text/plain": [
       "0.8905047048759623"
      ]
     },
     "execution_count": 523,
     "metadata": {},
     "output_type": "execute_result"
    }
   ],
   "source": [
    "# To see model7 accuracy within validation set\n",
    "TN = cm7_valid[0][0]\n",
    "FP = cm7_valid[0][1]\n",
    "FN = cm7_valid[1][0]\n",
    "TP = cm7_valid[1][1]\n",
    "\n",
    "(TP+TN)/(TP+TN+FP+FN)"
   ]
  },
  {
   "cell_type": "code",
   "execution_count": 524,
   "metadata": {},
   "outputs": [],
   "source": [
    "# Predict on the test set\n",
    "# Use save model7 to predict X features\n",
    "x_feature_test = saved_model7.predict(X_test6)\n",
    "\n",
    "# Calculate the MeanSquaredError between X test and X-features within each observation \n",
    "mse_test = tf.keras.losses.MeanSquaredError(reduction=tf.keras.losses.Reduction.NONE)(X_test6, x_feature_test).numpy()\n",
    "\n",
    "k_test = np.mean(mse_test)  \n",
    "\n",
    "# Prediction on y label within test set\n",
    "y_predict_test7 = np.where( mse_test > thr7[np.argmax(J7)],1,0 )\n"
   ]
  },
  {
   "cell_type": "code",
   "execution_count": 525,
   "metadata": {},
   "outputs": [
    {
     "data": {
      "text/plain": [
       "0.674038912152867"
      ]
     },
     "execution_count": 525,
     "metadata": {},
     "output_type": "execute_result"
    }
   ],
   "source": [
    "from sklearn.metrics import roc_auc_score\n",
    "roc_auc_score(y_test6,mse8)"
   ]
  },
  {
   "cell_type": "code",
   "execution_count": 526,
   "metadata": {},
   "outputs": [
    {
     "name": "stdout",
     "output_type": "stream",
     "text": [
      "[[2058  223]\n",
      " [  42   16]]\n"
     ]
    }
   ],
   "source": [
    "# Get the confusion matrix within test set\n",
    "cm7_test = confusion_matrix(y_test6,y_predict_test7)\n",
    "print(cm7_test)"
   ]
  },
  {
   "cell_type": "code",
   "execution_count": 527,
   "metadata": {},
   "outputs": [
    {
     "data": {
      "text/plain": [
       "0.8867037195382642"
      ]
     },
     "execution_count": 527,
     "metadata": {},
     "output_type": "execute_result"
    }
   ],
   "source": [
    "# Get the confusion matrix within test set\n",
    "TN = cm7_test[0][0]\n",
    "FP = cm7_test[0][1]\n",
    "FN = cm7_test[1][0]\n",
    "TP= cm7_test[1][1]\n",
    "\n",
    "# Accuracy of the model7\n",
    "(TP+TN)/(TP+TN+FP+FN)"
   ]
  },
  {
   "cell_type": "markdown",
   "metadata": {},
   "source": [
    "# Q9. Drawback of Neural Network"
   ]
  },
  {
   "cell_type": "markdown",
   "metadata": {},
   "source": [
    "Neural networks are used to make predictions, since their prediction performance and accuracy can reach to high levels when the designed model is good, compared with other classifier methods. However, the main downside of using neural network is that it is hard to interpret and understand the prediction process of the model, since they act like \"Black Boxes\" where we introduce all the inputs to the machine and it provides us the required output, without knowing what happened in the middle process. \n",
    "\n",
    "Applying the process to our case will lead to the situation that the insurance company agents will not be able to explain in details to the clients the reason why their claims have been investigated as fraud suspicious. The main inputs are data that the company has collected regarding the incidence occured but they do not know which part of this information has led to the fraud investigation, neither the threshold that limit the claims to be considered as fraudulent or not fradulent. This lack of transparency of the decision-making process of the company  can cause  complaints and distrust of the clients, since no reasonable nor detail explanations were able to be given, which might end up affecting the business reputation.\n",
    "\n",
    "There are other classifier methods which the prediction performance might not be as outstanding as neural network, but they are more transparent and easier to interpret the decision-making process, such as decision tree or random forest, among others. For instance, decision tree approach allows the agents of the insurance company to know clearly which part of the information from the claim has led to different outcomes through graphical representation and the clients will also be able to have a better understanding of the whole process.\n"
   ]
  },
  {
   "cell_type": "markdown",
   "metadata": {},
   "source": [
    "# Q10. Comparing with Decision Tree"
   ]
  },
  {
   "cell_type": "markdown",
   "metadata": {},
   "source": [
    "We have decided to use Decision Tree method to classify the claims of the clients and provide the interpretation of the decision-making process. We have chosen the synthetic dataset that we have used in Model 5, where the test set was the original one. \n",
    "\n",
    "We built the decision tree with a maximum of 4 leaf nodes, in order to avoid the tree being too large, which will complicate the interpretation of the prediction as well. After the visual representation of the decision tree, we computed the accuracy and the AUC score of the model on the test set, which gave us the result of 87% and 0.76, respectively. In terms of the performance, it is quite similar to the results from Model 5 and better than Model 3 and 7. However, one of the drawbacks of using decision tree to classify is that the approach highly depends on the training data, meaning that, if we resample the training set, we might get completely different results and accuracy level. \n",
    "\n",
    "In terms of the interpretability of the decision tree model, by looking at the graphical representation, we could derive to the reason why the claim of customers has been classified as suspicious of fraud, as well as which are the variables that the model gives more importance when classifying. For instance, if the variable \"ActLiability\", which is one type of the insurance covers that holders have used, presents a value less than 0.005 then, with high probability and node purity that the claim of the client will be classified as fraud suspicious. Therefore, by looking at the graphical representation, the agents of insurance company would be able to explain to clients when asking for the reason of fraud investigation."
   ]
  },
  {
   "cell_type": "code",
   "execution_count": 29,
   "metadata": {},
   "outputs": [],
   "source": [
    "from sklearn.tree import DecisionTreeClassifier\n",
    "import graphviz as gp\n",
    "from sklearn.tree import export_graphviz"
   ]
  },
  {
   "cell_type": "code",
   "execution_count": 30,
   "metadata": {},
   "outputs": [],
   "source": [
    "classifier_DT = DecisionTreeClassifier(max_leaf_nodes = 4)\n",
    "clf = classifier_DT.fit(X_train5, y_train5.values.ravel())"
   ]
  },
  {
   "cell_type": "code",
   "execution_count": 31,
   "metadata": {},
   "outputs": [
    {
     "data": {
      "image/svg+xml": "<?xml version=\"1.0\" encoding=\"UTF-8\" standalone=\"no\"?>\n<!DOCTYPE svg PUBLIC \"-//W3C//DTD SVG 1.1//EN\"\n \"http://www.w3.org/Graphics/SVG/1.1/DTD/svg11.dtd\">\n<!-- Generated by graphviz version 2.42.3 (20191010.1750)\n -->\n<!-- Title: Tree Pages: 1 -->\n<svg width=\"480pt\" height=\"433pt\"\n viewBox=\"0.00 0.00 480.00 433.00\" xmlns=\"http://www.w3.org/2000/svg\" xmlns:xlink=\"http://www.w3.org/1999/xlink\">\n<g id=\"graph0\" class=\"graph\" transform=\"scale(1 1) rotate(0) translate(4 429)\">\n<title>Tree</title>\n<polygon fill=\"white\" stroke=\"transparent\" points=\"-4,4 -4,-429 476,-429 476,4 -4,4\"/>\n<!-- 0 -->\n<g id=\"node1\" class=\"node\">\n<title>0</title>\n<path fill=\"#f2c09c\" stroke=\"black\" d=\"M221,-425C221,-425 101,-425 101,-425 95,-425 89,-419 89,-413 89,-413 89,-354 89,-354 89,-348 95,-342 101,-342 101,-342 221,-342 221,-342 227,-342 233,-348 233,-354 233,-354 233,-413 233,-413 233,-419 227,-425 221,-425\"/>\n<text text-anchor=\"middle\" x=\"161\" y=\"-409.8\" font-family=\"Helvetica,sans-Serif\" font-size=\"14.00\">ActLiability &lt;= 0.005</text>\n<text text-anchor=\"middle\" x=\"161\" y=\"-394.8\" font-family=\"Helvetica,sans-Serif\" font-size=\"14.00\">gini = 0.445</text>\n<text text-anchor=\"middle\" x=\"161\" y=\"-379.8\" font-family=\"Helvetica,sans-Serif\" font-size=\"14.00\">samples = 4104</text>\n<text text-anchor=\"middle\" x=\"161\" y=\"-364.8\" font-family=\"Helvetica,sans-Serif\" font-size=\"14.00\">value = [2734, 1370]</text>\n<text text-anchor=\"middle\" x=\"161\" y=\"-349.8\" font-family=\"Helvetica,sans-Serif\" font-size=\"14.00\">class = Fraud</text>\n</g>\n<!-- 1 -->\n<g id=\"node2\" class=\"node\">\n<title>1</title>\n<path fill=\"#e58139\" stroke=\"black\" d=\"M108,-298.5C108,-298.5 12,-298.5 12,-298.5 6,-298.5 0,-292.5 0,-286.5 0,-286.5 0,-242.5 0,-242.5 0,-236.5 6,-230.5 12,-230.5 12,-230.5 108,-230.5 108,-230.5 114,-230.5 120,-236.5 120,-242.5 120,-242.5 120,-286.5 120,-286.5 120,-292.5 114,-298.5 108,-298.5\"/>\n<text text-anchor=\"middle\" x=\"60\" y=\"-283.3\" font-family=\"Helvetica,sans-Serif\" font-size=\"14.00\">gini = 0.002</text>\n<text text-anchor=\"middle\" x=\"60\" y=\"-268.3\" font-family=\"Helvetica,sans-Serif\" font-size=\"14.00\">samples = 1176</text>\n<text text-anchor=\"middle\" x=\"60\" y=\"-253.3\" font-family=\"Helvetica,sans-Serif\" font-size=\"14.00\">value = [1175, 1]</text>\n<text text-anchor=\"middle\" x=\"60\" y=\"-238.3\" font-family=\"Helvetica,sans-Serif\" font-size=\"14.00\">class = Fraud</text>\n</g>\n<!-- 0&#45;&gt;1 -->\n<g id=\"edge1\" class=\"edge\">\n<title>0&#45;&gt;1</title>\n<path fill=\"none\" stroke=\"black\" d=\"M125.96,-341.91C116.05,-330.43 105.27,-317.94 95.34,-306.44\"/>\n<polygon fill=\"black\" stroke=\"black\" points=\"97.82,-303.95 88.63,-298.67 92.52,-308.52 97.82,-303.95\"/>\n<text text-anchor=\"middle\" x=\"86.8\" y=\"-319.9\" font-family=\"Helvetica,sans-Serif\" font-size=\"14.00\">True</text>\n</g>\n<!-- 2 -->\n<g id=\"node3\" class=\"node\">\n<title>2</title>\n<path fill=\"#fcf0e7\" stroke=\"black\" d=\"M373.5,-306C373.5,-306 150.5,-306 150.5,-306 144.5,-306 138.5,-300 138.5,-294 138.5,-294 138.5,-235 138.5,-235 138.5,-229 144.5,-223 150.5,-223 150.5,-223 373.5,-223 373.5,-223 379.5,-223 385.5,-229 385.5,-235 385.5,-235 385.5,-294 385.5,-294 385.5,-300 379.5,-306 373.5,-306\"/>\n<text text-anchor=\"middle\" x=\"262\" y=\"-290.8\" font-family=\"Helvetica,sans-Serif\" font-size=\"14.00\">FirstPolicySubscriptionDate &lt;= 0.417</text>\n<text text-anchor=\"middle\" x=\"262\" y=\"-275.8\" font-family=\"Helvetica,sans-Serif\" font-size=\"14.00\">gini = 0.498</text>\n<text text-anchor=\"middle\" x=\"262\" y=\"-260.8\" font-family=\"Helvetica,sans-Serif\" font-size=\"14.00\">samples = 2928</text>\n<text text-anchor=\"middle\" x=\"262\" y=\"-245.8\" font-family=\"Helvetica,sans-Serif\" font-size=\"14.00\">value = [1559, 1369]</text>\n<text text-anchor=\"middle\" x=\"262\" y=\"-230.8\" font-family=\"Helvetica,sans-Serif\" font-size=\"14.00\">class = Fraud</text>\n</g>\n<!-- 0&#45;&gt;2 -->\n<g id=\"edge2\" class=\"edge\">\n<title>0&#45;&gt;2</title>\n<path fill=\"none\" stroke=\"black\" d=\"M196.04,-341.91C203.88,-332.83 212.26,-323.12 220.33,-313.77\"/>\n<polygon fill=\"black\" stroke=\"black\" points=\"223.14,-315.88 227.02,-306.02 217.84,-311.3 223.14,-315.88\"/>\n<text text-anchor=\"middle\" x=\"228.85\" y=\"-327.25\" font-family=\"Helvetica,sans-Serif\" font-size=\"14.00\">False</text>\n</g>\n<!-- 3 -->\n<g id=\"node4\" class=\"node\">\n<title>3</title>\n<path fill=\"#eda572\" stroke=\"black\" d=\"M241,-179.5C241,-179.5 129,-179.5 129,-179.5 123,-179.5 117,-173.5 117,-167.5 117,-167.5 117,-123.5 117,-123.5 117,-117.5 123,-111.5 129,-111.5 129,-111.5 241,-111.5 241,-111.5 247,-111.5 253,-117.5 253,-123.5 253,-123.5 253,-167.5 253,-167.5 253,-173.5 247,-179.5 241,-179.5\"/>\n<text text-anchor=\"middle\" x=\"185\" y=\"-164.3\" font-family=\"Helvetica,sans-Serif\" font-size=\"14.00\">gini = 0.348</text>\n<text text-anchor=\"middle\" x=\"185\" y=\"-149.3\" font-family=\"Helvetica,sans-Serif\" font-size=\"14.00\">samples = 1295</text>\n<text text-anchor=\"middle\" x=\"185\" y=\"-134.3\" font-family=\"Helvetica,sans-Serif\" font-size=\"14.00\">value = [1005, 290]</text>\n<text text-anchor=\"middle\" x=\"185\" y=\"-119.3\" font-family=\"Helvetica,sans-Serif\" font-size=\"14.00\">class = Fraud</text>\n</g>\n<!-- 2&#45;&gt;3 -->\n<g id=\"edge3\" class=\"edge\">\n<title>2&#45;&gt;3</title>\n<path fill=\"none\" stroke=\"black\" d=\"M235.29,-222.91C227.88,-211.65 219.83,-199.42 212.38,-188.11\"/>\n<polygon fill=\"black\" stroke=\"black\" points=\"215.25,-186.1 206.83,-179.67 209.4,-189.94 215.25,-186.1\"/>\n</g>\n<!-- 4 -->\n<g id=\"node5\" class=\"node\">\n<title>4</title>\n<path fill=\"#9fcff2\" stroke=\"black\" d=\"M395,-187C395,-187 283,-187 283,-187 277,-187 271,-181 271,-175 271,-175 271,-116 271,-116 271,-110 277,-104 283,-104 283,-104 395,-104 395,-104 401,-104 407,-110 407,-116 407,-116 407,-175 407,-175 407,-181 401,-187 395,-187\"/>\n<text text-anchor=\"middle\" x=\"339\" y=\"-171.8\" font-family=\"Helvetica,sans-Serif\" font-size=\"14.00\">LossDate &lt;= 0.485</text>\n<text text-anchor=\"middle\" x=\"339\" y=\"-156.8\" font-family=\"Helvetica,sans-Serif\" font-size=\"14.00\">gini = 0.448</text>\n<text text-anchor=\"middle\" x=\"339\" y=\"-141.8\" font-family=\"Helvetica,sans-Serif\" font-size=\"14.00\">samples = 1633</text>\n<text text-anchor=\"middle\" x=\"339\" y=\"-126.8\" font-family=\"Helvetica,sans-Serif\" font-size=\"14.00\">value = [554, 1079]</text>\n<text text-anchor=\"middle\" x=\"339\" y=\"-111.8\" font-family=\"Helvetica,sans-Serif\" font-size=\"14.00\">class = Non Fraud</text>\n</g>\n<!-- 2&#45;&gt;4 -->\n<g id=\"edge4\" class=\"edge\">\n<title>2&#45;&gt;4</title>\n<path fill=\"none\" stroke=\"black\" d=\"M288.71,-222.91C294.51,-214.1 300.7,-204.7 306.68,-195.61\"/>\n<polygon fill=\"black\" stroke=\"black\" points=\"309.76,-197.3 312.33,-187.02 303.91,-193.45 309.76,-197.3\"/>\n</g>\n<!-- 5 -->\n<g id=\"node6\" class=\"node\">\n<title>5</title>\n<path fill=\"#74baed\" stroke=\"black\" d=\"M322,-68C322,-68 210,-68 210,-68 204,-68 198,-62 198,-56 198,-56 198,-12 198,-12 198,-6 204,0 210,0 210,0 322,0 322,0 328,0 334,-6 334,-12 334,-12 334,-56 334,-56 334,-62 328,-68 322,-68\"/>\n<text text-anchor=\"middle\" x=\"266\" y=\"-52.8\" font-family=\"Helvetica,sans-Serif\" font-size=\"14.00\">gini = 0.354</text>\n<text text-anchor=\"middle\" x=\"266\" y=\"-37.8\" font-family=\"Helvetica,sans-Serif\" font-size=\"14.00\">samples = 1344</text>\n<text text-anchor=\"middle\" x=\"266\" y=\"-22.8\" font-family=\"Helvetica,sans-Serif\" font-size=\"14.00\">value = [309, 1035]</text>\n<text text-anchor=\"middle\" x=\"266\" y=\"-7.8\" font-family=\"Helvetica,sans-Serif\" font-size=\"14.00\">class = Non Fraud</text>\n</g>\n<!-- 4&#45;&gt;5 -->\n<g id=\"edge5\" class=\"edge\">\n<title>4&#45;&gt;5</title>\n<path fill=\"none\" stroke=\"black\" d=\"M311.82,-103.73C305.92,-94.88 299.67,-85.51 293.75,-76.63\"/>\n<polygon fill=\"black\" stroke=\"black\" points=\"296.66,-74.68 288.2,-68.3 290.83,-78.56 296.66,-74.68\"/>\n</g>\n<!-- 6 -->\n<g id=\"node7\" class=\"node\">\n<title>6</title>\n<path fill=\"#ea985d\" stroke=\"black\" d=\"M460,-68C460,-68 364,-68 364,-68 358,-68 352,-62 352,-56 352,-56 352,-12 352,-12 352,-6 358,0 364,0 364,0 460,0 460,0 466,0 472,-6 472,-12 472,-12 472,-56 472,-56 472,-62 466,-68 460,-68\"/>\n<text text-anchor=\"middle\" x=\"412\" y=\"-52.8\" font-family=\"Helvetica,sans-Serif\" font-size=\"14.00\">gini = 0.258</text>\n<text text-anchor=\"middle\" x=\"412\" y=\"-37.8\" font-family=\"Helvetica,sans-Serif\" font-size=\"14.00\">samples = 289</text>\n<text text-anchor=\"middle\" x=\"412\" y=\"-22.8\" font-family=\"Helvetica,sans-Serif\" font-size=\"14.00\">value = [245, 44]</text>\n<text text-anchor=\"middle\" x=\"412\" y=\"-7.8\" font-family=\"Helvetica,sans-Serif\" font-size=\"14.00\">class = Fraud</text>\n</g>\n<!-- 4&#45;&gt;6 -->\n<g id=\"edge6\" class=\"edge\">\n<title>4&#45;&gt;6</title>\n<path fill=\"none\" stroke=\"black\" d=\"M366.18,-103.73C372.08,-94.88 378.33,-85.51 384.25,-76.63\"/>\n<polygon fill=\"black\" stroke=\"black\" points=\"387.17,-78.56 389.8,-68.3 381.34,-74.68 387.17,-78.56\"/>\n</g>\n</g>\n</svg>\n",
      "text/plain": [
       "<graphviz.files.Source at 0x7faffca4d520>"
      ]
     },
     "execution_count": 31,
     "metadata": {},
     "output_type": "execute_result"
    }
   ],
   "source": [
    "dot_data = export_graphviz(classifier_DT, feature_names = X.columns, filled = True, rounded = True, class_names=[\"Fraud\",\"Non Fraud\"])\n",
    "graph = gp.Source(dot_data)\n",
    "graph"
   ]
  },
  {
   "cell_type": "code",
   "execution_count": 32,
   "metadata": {},
   "outputs": [],
   "source": [
    "# The probability of Fraud on the validation set\n",
    "Y_probs_tree=classifier_DT.predict_proba(X_valid5)[:,1]"
   ]
  },
  {
   "cell_type": "code",
   "execution_count": 33,
   "metadata": {},
   "outputs": [
    {
     "name": "stdout",
     "output_type": "stream",
     "text": [
      "AUC test:  0.8486514232834326\n"
     ]
    },
    {
     "data": {
      "image/png": "[encoded data removed]",
      "text/plain": [
       "<Figure size 432x288 with 1 Axes>"
      ]
     },
     "metadata": {},
     "output_type": "display_data"
    }
   ],
   "source": [
    "from matplotlib import pyplot\n",
    "fpr_t, tpr_t, thresholds_t = metrics.roc_curve(y_valid5,Y_probs_tree)\n",
    "roc_auc_t = auc(fpr_t, tpr_t)\n",
    "print('AUC test: ', roc_auc_t)\n",
    "\n",
    "sns.set('talk', 'darkgrid', 'dark', font_scale=1, \\\n",
    "        rc={\"lines.linewidth\": 2, 'grid.linestyle': '--'})\n",
    "\n",
    "lw = 2\n",
    "plt.figure()\n",
    "plt.plot(fpr_t, tpr_t, color='darkorange',\n",
    "         lw=lw, label='ROC curve (AUC = %0.2f)' % roc_auc_t)\n",
    "plt.plot([0,1], [0, 1], color='navy', lw=lw, linestyle='--')\n",
    "plt.xlim([0.0, 1.0])\n",
    "plt.ylim([0.0, 1.05])\n",
    "plt.xlabel('False Positive Rate')\n",
    "plt.ylabel('True Positive Rate')\n",
    "plt.title('Receiver Operating Characteristic curve')\n",
    "plt.legend(loc=\"lower right\")\n",
    "plt.show()\n"
   ]
  },
  {
   "cell_type": "code",
   "execution_count": 34,
   "metadata": {},
   "outputs": [
    {
     "name": "stdout",
     "output_type": "stream",
     "text": [
      "The best threshold according to the J statistic is 0.7700892857142857\n"
     ]
    }
   ],
   "source": [
    "#%% Setting threshold and get the Confusion Matrix in Validation Set \n",
    "from sklearn.metrics import confusion_matrix\n",
    "J_t = tpr_t - fpr_t\n",
    "thr_t = thresholds_t[np.argmax(J_t)]\n",
    "y_predict_valid = np.where(Y_probs_tree >= thr_t, 1, 0)\n",
    "y_predict_valid\n",
    "print(\"The best threshold according to the J statistic is \" + str(thresholds_t[np.argmax(J_t)]))"
   ]
  },
  {
   "cell_type": "code",
   "execution_count": 35,
   "metadata": {},
   "outputs": [
    {
     "data": {
      "text/plain": [
       "0.8157894736842105"
      ]
     },
     "execution_count": 35,
     "metadata": {},
     "output_type": "execute_result"
    }
   ],
   "source": [
    "cm_valid = confusion_matrix(y_valid5,y_predict_valid)\n",
    "TN_valid = cm_valid[0][0]\n",
    "FP_valid = cm_valid[0][1]\n",
    "FN_valid = cm_valid[1][0]\n",
    "TP_valid = cm_valid[1][1]\n",
    "(TP_valid + TN_valid)/(TP_valid +TN_valid + FP_valid + FN_valid )\n",
    "\n",
    "# model in validation set acc is 0.8157894736842105"
   ]
  },
  {
   "cell_type": "code",
   "execution_count": 36,
   "metadata": {},
   "outputs": [],
   "source": [
    "Y_probs_test=classifier_DT.predict_proba(X_test5)[:,1]\n",
    "y_predict_test = np.where(Y_probs_test >= thr_t, 1, 0)"
   ]
  },
  {
   "cell_type": "code",
   "execution_count": 37,
   "metadata": {},
   "outputs": [
    {
     "data": {
      "text/plain": [
       "array([[1994,  287],\n",
       "       [   8,   15]])"
      ]
     },
     "execution_count": 37,
     "metadata": {},
     "output_type": "execute_result"
    }
   ],
   "source": [
    "cm_test = confusion_matrix(y_test5, y_predict_test)\n",
    "cm_test"
   ]
  },
  {
   "cell_type": "code",
   "execution_count": 274,
   "metadata": {},
   "outputs": [
    {
     "data": {
      "text/plain": [
       "0.8719618055555556"
      ]
     },
     "execution_count": 274,
     "metadata": {},
     "output_type": "execute_result"
    }
   ],
   "source": [
    "TN_test = cm_test[0][0]\n",
    "FP_test = cm_test[0][1]\n",
    "FN_test = cm_test[1][0]\n",
    "TP_test= cm_test[1][1]\n",
    "\n",
    "# Accuracy of the Decision Tree\n",
    "(TP_test + TN_test )/(TP_test + TN_test + FP_test + FN_test )"
   ]
  },
  {
   "cell_type": "code",
   "execution_count": 38,
   "metadata": {},
   "outputs": [
    {
     "data": {
      "text/plain": [
       "0.7631759525761013"
      ]
     },
     "execution_count": 38,
     "metadata": {},
     "output_type": "execute_result"
    }
   ],
   "source": [
    "from sklearn.metrics import roc_auc_score\n",
    "roc_test = roc_auc_score(y_test5,y_predict_test)\n",
    "roc_test\n"
   ]
  }
 ],
 "metadata": {
  "kernelspec": {
   "display_name": "Python 3.9.13 64-bit",
   "language": "python",
   "name": "python3"
  },
  "language_info": {
   "codemirror_mode": {
    "name": "ipython",
    "version": 3
   },
   "file_extension": ".py",
   "mimetype": "text/x-python",
   "name": "python",
   "nbconvert_exporter": "python",
   "pygments_lexer": "ipython3",
   "version": "3.9.13"
  },
  "orig_nbformat": 4,
  "vscode": {
   "interpreter": {
    "hash": "b0fa6594d8f4cbf19f97940f81e996739fb7646882a419484c72d19e05852a7e"
   }
  }
 },
 "nbformat": 4,
 "nbformat_minor": 2
}
